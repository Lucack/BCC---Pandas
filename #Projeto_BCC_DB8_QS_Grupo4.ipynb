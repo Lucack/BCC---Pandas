{
  "cells": [
    {
      "attachments": {},
      "cell_type": "markdown",
      "metadata": {
        "id": "-krQ2FyfIh19"
      },
      "source": [
        "# Título: Consumo de Álcool por Estudantes do Ensino Médio.\n",
        "## Grupo: 04\n",
        "## Integrantes\n",
        "  - Joyce \n",
        "  - Juan \n",
        "  - Lucas Santana Santos\n",
        "  - Pedro \n",
        "\n",
        "\n",
        "## Prof. Juliana Cristina Braga\n",
        "\n",
        "## Bases de Dados: Student Alcohol Consumption.\n",
        "\n",
        "Link da Base de Dados (site: Kaggle) = https://www.kaggle.com/uciml/student-alcohol-consumption?select=student-mat.csv\n",
        "\n",
        "Os dados foram obtidos num inquérito a alunos dos cursos de matemática do ensino médio. Ele contém muitas informações sociais, de gênero e de estudo interessantes sobre os alunos.\n",
        "\n",
        "As informações reunidas se referem ao ano de 2016.\n",
        "\n",
        "\n",
        "\n"
      ]
    },
    {
      "cell_type": "markdown",
      "metadata": {
        "id": "_5EPfI9Nrhuu"
      },
      "source": [
        "# Analise de dados"
      ]
    },
    {
      "cell_type": "code",
      "execution_count": null,
      "metadata": {
        "colab": {
          "base_uri": "https://localhost:8080/",
          "height": 444
        },
        "id": "Qu1-CNZvp4zi",
        "outputId": "cfe01efc-19b6-4bdb-837a-68775cffcfe4"
      },
      "outputs": [
        {
          "data": {
            "text/html": [
              "<div>\n",
              "<style scoped>\n",
              "    .dataframe tbody tr th:only-of-type {\n",
              "        vertical-align: middle;\n",
              "    }\n",
              "\n",
              "    .dataframe tbody tr th {\n",
              "        vertical-align: top;\n",
              "    }\n",
              "\n",
              "    .dataframe thead th {\n",
              "        text-align: right;\n",
              "    }\n",
              "</style>\n",
              "<table border=\"1\" class=\"dataframe\">\n",
              "  <thead>\n",
              "    <tr style=\"text-align: right;\">\n",
              "      <th></th>\n",
              "      <th>school</th>\n",
              "      <th>sex</th>\n",
              "      <th>age</th>\n",
              "      <th>address</th>\n",
              "      <th>famsize</th>\n",
              "      <th>Pstatus</th>\n",
              "      <th>Medu</th>\n",
              "      <th>Fedu</th>\n",
              "      <th>Mjob</th>\n",
              "      <th>Fjob</th>\n",
              "      <th>reason</th>\n",
              "      <th>guardian</th>\n",
              "      <th>traveltime</th>\n",
              "      <th>studytime</th>\n",
              "      <th>failures</th>\n",
              "      <th>schoolsup</th>\n",
              "      <th>famsup</th>\n",
              "      <th>paid</th>\n",
              "      <th>activities</th>\n",
              "      <th>nursery</th>\n",
              "      <th>higher</th>\n",
              "      <th>internet</th>\n",
              "      <th>romantic</th>\n",
              "      <th>famrel</th>\n",
              "      <th>freetime</th>\n",
              "      <th>goout</th>\n",
              "      <th>Dalc</th>\n",
              "      <th>Walc</th>\n",
              "      <th>health</th>\n",
              "      <th>absences</th>\n",
              "      <th>G1</th>\n",
              "      <th>G2</th>\n",
              "      <th>G3</th>\n",
              "    </tr>\n",
              "  </thead>\n",
              "  <tbody>\n",
              "    <tr>\n",
              "      <th>0</th>\n",
              "      <td>GP</td>\n",
              "      <td>F</td>\n",
              "      <td>18</td>\n",
              "      <td>U</td>\n",
              "      <td>GT3</td>\n",
              "      <td>A</td>\n",
              "      <td>4</td>\n",
              "      <td>4</td>\n",
              "      <td>at_home</td>\n",
              "      <td>teacher</td>\n",
              "      <td>course</td>\n",
              "      <td>mother</td>\n",
              "      <td>2</td>\n",
              "      <td>2</td>\n",
              "      <td>0</td>\n",
              "      <td>yes</td>\n",
              "      <td>no</td>\n",
              "      <td>no</td>\n",
              "      <td>no</td>\n",
              "      <td>yes</td>\n",
              "      <td>yes</td>\n",
              "      <td>no</td>\n",
              "      <td>no</td>\n",
              "      <td>4</td>\n",
              "      <td>3</td>\n",
              "      <td>4</td>\n",
              "      <td>1</td>\n",
              "      <td>1</td>\n",
              "      <td>3</td>\n",
              "      <td>6</td>\n",
              "      <td>5</td>\n",
              "      <td>6</td>\n",
              "      <td>6</td>\n",
              "    </tr>\n",
              "    <tr>\n",
              "      <th>1</th>\n",
              "      <td>GP</td>\n",
              "      <td>F</td>\n",
              "      <td>17</td>\n",
              "      <td>U</td>\n",
              "      <td>GT3</td>\n",
              "      <td>T</td>\n",
              "      <td>1</td>\n",
              "      <td>1</td>\n",
              "      <td>at_home</td>\n",
              "      <td>other</td>\n",
              "      <td>course</td>\n",
              "      <td>father</td>\n",
              "      <td>1</td>\n",
              "      <td>2</td>\n",
              "      <td>0</td>\n",
              "      <td>no</td>\n",
              "      <td>yes</td>\n",
              "      <td>no</td>\n",
              "      <td>no</td>\n",
              "      <td>no</td>\n",
              "      <td>yes</td>\n",
              "      <td>yes</td>\n",
              "      <td>no</td>\n",
              "      <td>5</td>\n",
              "      <td>3</td>\n",
              "      <td>3</td>\n",
              "      <td>1</td>\n",
              "      <td>1</td>\n",
              "      <td>3</td>\n",
              "      <td>4</td>\n",
              "      <td>5</td>\n",
              "      <td>5</td>\n",
              "      <td>6</td>\n",
              "    </tr>\n",
              "    <tr>\n",
              "      <th>2</th>\n",
              "      <td>GP</td>\n",
              "      <td>F</td>\n",
              "      <td>15</td>\n",
              "      <td>U</td>\n",
              "      <td>LE3</td>\n",
              "      <td>T</td>\n",
              "      <td>1</td>\n",
              "      <td>1</td>\n",
              "      <td>at_home</td>\n",
              "      <td>other</td>\n",
              "      <td>other</td>\n",
              "      <td>mother</td>\n",
              "      <td>1</td>\n",
              "      <td>2</td>\n",
              "      <td>3</td>\n",
              "      <td>yes</td>\n",
              "      <td>no</td>\n",
              "      <td>yes</td>\n",
              "      <td>no</td>\n",
              "      <td>yes</td>\n",
              "      <td>yes</td>\n",
              "      <td>yes</td>\n",
              "      <td>no</td>\n",
              "      <td>4</td>\n",
              "      <td>3</td>\n",
              "      <td>2</td>\n",
              "      <td>2</td>\n",
              "      <td>3</td>\n",
              "      <td>3</td>\n",
              "      <td>10</td>\n",
              "      <td>7</td>\n",
              "      <td>8</td>\n",
              "      <td>10</td>\n",
              "    </tr>\n",
              "    <tr>\n",
              "      <th>3</th>\n",
              "      <td>GP</td>\n",
              "      <td>F</td>\n",
              "      <td>15</td>\n",
              "      <td>U</td>\n",
              "      <td>GT3</td>\n",
              "      <td>T</td>\n",
              "      <td>4</td>\n",
              "      <td>2</td>\n",
              "      <td>health</td>\n",
              "      <td>services</td>\n",
              "      <td>home</td>\n",
              "      <td>mother</td>\n",
              "      <td>1</td>\n",
              "      <td>3</td>\n",
              "      <td>0</td>\n",
              "      <td>no</td>\n",
              "      <td>yes</td>\n",
              "      <td>yes</td>\n",
              "      <td>yes</td>\n",
              "      <td>yes</td>\n",
              "      <td>yes</td>\n",
              "      <td>yes</td>\n",
              "      <td>yes</td>\n",
              "      <td>3</td>\n",
              "      <td>2</td>\n",
              "      <td>2</td>\n",
              "      <td>1</td>\n",
              "      <td>1</td>\n",
              "      <td>5</td>\n",
              "      <td>2</td>\n",
              "      <td>15</td>\n",
              "      <td>14</td>\n",
              "      <td>15</td>\n",
              "    </tr>\n",
              "    <tr>\n",
              "      <th>4</th>\n",
              "      <td>GP</td>\n",
              "      <td>F</td>\n",
              "      <td>16</td>\n",
              "      <td>U</td>\n",
              "      <td>GT3</td>\n",
              "      <td>T</td>\n",
              "      <td>3</td>\n",
              "      <td>3</td>\n",
              "      <td>other</td>\n",
              "      <td>other</td>\n",
              "      <td>home</td>\n",
              "      <td>father</td>\n",
              "      <td>1</td>\n",
              "      <td>2</td>\n",
              "      <td>0</td>\n",
              "      <td>no</td>\n",
              "      <td>yes</td>\n",
              "      <td>yes</td>\n",
              "      <td>no</td>\n",
              "      <td>yes</td>\n",
              "      <td>yes</td>\n",
              "      <td>no</td>\n",
              "      <td>no</td>\n",
              "      <td>4</td>\n",
              "      <td>3</td>\n",
              "      <td>2</td>\n",
              "      <td>1</td>\n",
              "      <td>2</td>\n",
              "      <td>5</td>\n",
              "      <td>4</td>\n",
              "      <td>6</td>\n",
              "      <td>10</td>\n",
              "      <td>10</td>\n",
              "    </tr>\n",
              "    <tr>\n",
              "      <th>...</th>\n",
              "      <td>...</td>\n",
              "      <td>...</td>\n",
              "      <td>...</td>\n",
              "      <td>...</td>\n",
              "      <td>...</td>\n",
              "      <td>...</td>\n",
              "      <td>...</td>\n",
              "      <td>...</td>\n",
              "      <td>...</td>\n",
              "      <td>...</td>\n",
              "      <td>...</td>\n",
              "      <td>...</td>\n",
              "      <td>...</td>\n",
              "      <td>...</td>\n",
              "      <td>...</td>\n",
              "      <td>...</td>\n",
              "      <td>...</td>\n",
              "      <td>...</td>\n",
              "      <td>...</td>\n",
              "      <td>...</td>\n",
              "      <td>...</td>\n",
              "      <td>...</td>\n",
              "      <td>...</td>\n",
              "      <td>...</td>\n",
              "      <td>...</td>\n",
              "      <td>...</td>\n",
              "      <td>...</td>\n",
              "      <td>...</td>\n",
              "      <td>...</td>\n",
              "      <td>...</td>\n",
              "      <td>...</td>\n",
              "      <td>...</td>\n",
              "      <td>...</td>\n",
              "    </tr>\n",
              "    <tr>\n",
              "      <th>390</th>\n",
              "      <td>MS</td>\n",
              "      <td>M</td>\n",
              "      <td>20</td>\n",
              "      <td>U</td>\n",
              "      <td>LE3</td>\n",
              "      <td>A</td>\n",
              "      <td>2</td>\n",
              "      <td>2</td>\n",
              "      <td>services</td>\n",
              "      <td>services</td>\n",
              "      <td>course</td>\n",
              "      <td>other</td>\n",
              "      <td>1</td>\n",
              "      <td>2</td>\n",
              "      <td>2</td>\n",
              "      <td>no</td>\n",
              "      <td>yes</td>\n",
              "      <td>yes</td>\n",
              "      <td>no</td>\n",
              "      <td>yes</td>\n",
              "      <td>yes</td>\n",
              "      <td>no</td>\n",
              "      <td>no</td>\n",
              "      <td>5</td>\n",
              "      <td>5</td>\n",
              "      <td>4</td>\n",
              "      <td>4</td>\n",
              "      <td>5</td>\n",
              "      <td>4</td>\n",
              "      <td>11</td>\n",
              "      <td>9</td>\n",
              "      <td>9</td>\n",
              "      <td>9</td>\n",
              "    </tr>\n",
              "    <tr>\n",
              "      <th>391</th>\n",
              "      <td>MS</td>\n",
              "      <td>M</td>\n",
              "      <td>17</td>\n",
              "      <td>U</td>\n",
              "      <td>LE3</td>\n",
              "      <td>T</td>\n",
              "      <td>3</td>\n",
              "      <td>1</td>\n",
              "      <td>services</td>\n",
              "      <td>services</td>\n",
              "      <td>course</td>\n",
              "      <td>mother</td>\n",
              "      <td>2</td>\n",
              "      <td>1</td>\n",
              "      <td>0</td>\n",
              "      <td>no</td>\n",
              "      <td>no</td>\n",
              "      <td>no</td>\n",
              "      <td>no</td>\n",
              "      <td>no</td>\n",
              "      <td>yes</td>\n",
              "      <td>yes</td>\n",
              "      <td>no</td>\n",
              "      <td>2</td>\n",
              "      <td>4</td>\n",
              "      <td>5</td>\n",
              "      <td>3</td>\n",
              "      <td>4</td>\n",
              "      <td>2</td>\n",
              "      <td>3</td>\n",
              "      <td>14</td>\n",
              "      <td>16</td>\n",
              "      <td>16</td>\n",
              "    </tr>\n",
              "    <tr>\n",
              "      <th>392</th>\n",
              "      <td>MS</td>\n",
              "      <td>M</td>\n",
              "      <td>21</td>\n",
              "      <td>R</td>\n",
              "      <td>GT3</td>\n",
              "      <td>T</td>\n",
              "      <td>1</td>\n",
              "      <td>1</td>\n",
              "      <td>other</td>\n",
              "      <td>other</td>\n",
              "      <td>course</td>\n",
              "      <td>other</td>\n",
              "      <td>1</td>\n",
              "      <td>1</td>\n",
              "      <td>3</td>\n",
              "      <td>no</td>\n",
              "      <td>no</td>\n",
              "      <td>no</td>\n",
              "      <td>no</td>\n",
              "      <td>no</td>\n",
              "      <td>yes</td>\n",
              "      <td>no</td>\n",
              "      <td>no</td>\n",
              "      <td>5</td>\n",
              "      <td>5</td>\n",
              "      <td>3</td>\n",
              "      <td>3</td>\n",
              "      <td>3</td>\n",
              "      <td>3</td>\n",
              "      <td>3</td>\n",
              "      <td>10</td>\n",
              "      <td>8</td>\n",
              "      <td>7</td>\n",
              "    </tr>\n",
              "    <tr>\n",
              "      <th>393</th>\n",
              "      <td>MS</td>\n",
              "      <td>M</td>\n",
              "      <td>18</td>\n",
              "      <td>R</td>\n",
              "      <td>LE3</td>\n",
              "      <td>T</td>\n",
              "      <td>3</td>\n",
              "      <td>2</td>\n",
              "      <td>services</td>\n",
              "      <td>other</td>\n",
              "      <td>course</td>\n",
              "      <td>mother</td>\n",
              "      <td>3</td>\n",
              "      <td>1</td>\n",
              "      <td>0</td>\n",
              "      <td>no</td>\n",
              "      <td>no</td>\n",
              "      <td>no</td>\n",
              "      <td>no</td>\n",
              "      <td>no</td>\n",
              "      <td>yes</td>\n",
              "      <td>yes</td>\n",
              "      <td>no</td>\n",
              "      <td>4</td>\n",
              "      <td>4</td>\n",
              "      <td>1</td>\n",
              "      <td>3</td>\n",
              "      <td>4</td>\n",
              "      <td>5</td>\n",
              "      <td>0</td>\n",
              "      <td>11</td>\n",
              "      <td>12</td>\n",
              "      <td>10</td>\n",
              "    </tr>\n",
              "    <tr>\n",
              "      <th>394</th>\n",
              "      <td>MS</td>\n",
              "      <td>M</td>\n",
              "      <td>19</td>\n",
              "      <td>U</td>\n",
              "      <td>LE3</td>\n",
              "      <td>T</td>\n",
              "      <td>1</td>\n",
              "      <td>1</td>\n",
              "      <td>other</td>\n",
              "      <td>at_home</td>\n",
              "      <td>course</td>\n",
              "      <td>father</td>\n",
              "      <td>1</td>\n",
              "      <td>1</td>\n",
              "      <td>0</td>\n",
              "      <td>no</td>\n",
              "      <td>no</td>\n",
              "      <td>no</td>\n",
              "      <td>no</td>\n",
              "      <td>yes</td>\n",
              "      <td>yes</td>\n",
              "      <td>yes</td>\n",
              "      <td>no</td>\n",
              "      <td>3</td>\n",
              "      <td>2</td>\n",
              "      <td>3</td>\n",
              "      <td>3</td>\n",
              "      <td>3</td>\n",
              "      <td>5</td>\n",
              "      <td>5</td>\n",
              "      <td>8</td>\n",
              "      <td>9</td>\n",
              "      <td>9</td>\n",
              "    </tr>\n",
              "  </tbody>\n",
              "</table>\n",
              "<p>395 rows × 33 columns</p>\n",
              "</div>"
            ],
            "text/plain": [
              "    school sex  age address famsize Pstatus  ...  Walc  health absences  G1  G2  G3\n",
              "0       GP   F   18       U     GT3       A  ...     1       3        6   5   6   6\n",
              "1       GP   F   17       U     GT3       T  ...     1       3        4   5   5   6\n",
              "2       GP   F   15       U     LE3       T  ...     3       3       10   7   8  10\n",
              "3       GP   F   15       U     GT3       T  ...     1       5        2  15  14  15\n",
              "4       GP   F   16       U     GT3       T  ...     2       5        4   6  10  10\n",
              "..     ...  ..  ...     ...     ...     ...  ...   ...     ...      ...  ..  ..  ..\n",
              "390     MS   M   20       U     LE3       A  ...     5       4       11   9   9   9\n",
              "391     MS   M   17       U     LE3       T  ...     4       2        3  14  16  16\n",
              "392     MS   M   21       R     GT3       T  ...     3       3        3  10   8   7\n",
              "393     MS   M   18       R     LE3       T  ...     4       5        0  11  12  10\n",
              "394     MS   M   19       U     LE3       T  ...     3       5        5   8   9   9\n",
              "\n",
              "[395 rows x 33 columns]"
            ]
          },
          "execution_count": 2,
          "metadata": {},
          "output_type": "execute_result"
        }
      ],
      "source": [
        "# mat - https://drive.google.com/file/d/1uKaUsLSUS9zPC8abN0nQ97zuow321Q9U/view?usp=sharing\n",
        "import pandas as pd\n",
        "codigo = \"1uKaUsLSUS9zPC8abN0nQ97zuow321Q9U\"\n",
        "file = \"https://drive.google.com/u/3/uc?id=\" + codigo + \"&export=download\"\n",
        "dados = pd.read_csv(file)\n",
        "dados"
      ]
    },
    {
      "cell_type": "markdown",
      "metadata": {
        "id": "OgU7oJOQp5_c"
      },
      "source": [
        "Explorando a base de dados\n",
        "\n",
        "\n",
        "\n",
        "\n",
        "Principais características da base de dados:\n",
        "\n"
      ]
    },
    {
      "cell_type": "code",
      "execution_count": null,
      "metadata": {
        "colab": {
          "base_uri": "https://localhost:8080/"
        },
        "id": "BOpa-jHQwJid",
        "outputId": "185c5122-deb9-499e-a183-2f85ec4a8acf"
      },
      "outputs": [
        {
          "name": "stdout",
          "output_type": "stream",
          "text": [
            "Estatisticas Gerais:\n",
            "\n",
            "              age        Medu        Fedu  ...          G1          G2          G3\n",
            "count  395.000000  395.000000  395.000000  ...  395.000000  395.000000  395.000000\n",
            "mean    16.696203    2.749367    2.521519  ...   10.908861   10.713924   10.415190\n",
            "std      1.276043    1.094735    1.088201  ...    3.319195    3.761505    4.581443\n",
            "min     15.000000    0.000000    0.000000  ...    3.000000    0.000000    0.000000\n",
            "25%     16.000000    2.000000    2.000000  ...    8.000000    9.000000    8.000000\n",
            "50%     17.000000    3.000000    2.000000  ...   11.000000   11.000000   11.000000\n",
            "75%     18.000000    4.000000    3.000000  ...   13.000000   13.000000   14.000000\n",
            "max     22.000000    4.000000    4.000000  ...   19.000000   19.000000   20.000000\n",
            "\n",
            "[8 rows x 16 columns]\n"
          ]
        }
      ],
      "source": [
        "print('Estatisticas Gerais:\\n')\n",
        "print(dados.describe())"
      ]
    },
    {
      "cell_type": "code",
      "execution_count": null,
      "metadata": {
        "colab": {
          "base_uri": "https://localhost:8080/"
        },
        "id": "cNnJNE7K2FMd",
        "outputId": "12d104cb-8f7a-4a59-85ca-460335cd2c28"
      },
      "outputs": [
        {
          "name": "stdout",
          "output_type": "stream",
          "text": [
            "(Linhas , Colunas) :  (395, 33)\n"
          ]
        }
      ],
      "source": [
        "print(\"(Linhas , Colunas) : \", dados.shape)"
      ]
    },
    {
      "cell_type": "code",
      "execution_count": null,
      "metadata": {
        "colab": {
          "base_uri": "https://localhost:8080/"
        },
        "id": "ZcPltrMgCVTz",
        "outputId": "17340465-2fbd-48c3-c292-179d0bf24766"
      },
      "outputs": [
        {
          "name": "stdout",
          "output_type": "stream",
          "text": [
            "Informações Gerais:\n",
            "\n",
            "<class 'pandas.core.frame.DataFrame'>\n",
            "RangeIndex: 395 entries, 0 to 394\n",
            "Data columns (total 33 columns):\n",
            " #   Column      Non-Null Count  Dtype \n",
            "---  ------      --------------  ----- \n",
            " 0   school      395 non-null    object\n",
            " 1   sex         395 non-null    object\n",
            " 2   age         395 non-null    int64 \n",
            " 3   address     395 non-null    object\n",
            " 4   famsize     395 non-null    object\n",
            " 5   Pstatus     395 non-null    object\n",
            " 6   Medu        395 non-null    int64 \n",
            " 7   Fedu        395 non-null    int64 \n",
            " 8   Mjob        395 non-null    object\n",
            " 9   Fjob        395 non-null    object\n",
            " 10  reason      395 non-null    object\n",
            " 11  guardian    395 non-null    object\n",
            " 12  traveltime  395 non-null    int64 \n",
            " 13  studytime   395 non-null    int64 \n",
            " 14  failures    395 non-null    int64 \n",
            " 15  schoolsup   395 non-null    object\n",
            " 16  famsup      395 non-null    object\n",
            " 17  paid        395 non-null    object\n",
            " 18  activities  395 non-null    object\n",
            " 19  nursery     395 non-null    object\n",
            " 20  higher      395 non-null    object\n",
            " 21  internet    395 non-null    object\n",
            " 22  romantic    395 non-null    object\n",
            " 23  famrel      395 non-null    int64 \n",
            " 24  freetime    395 non-null    int64 \n",
            " 25  goout       395 non-null    int64 \n",
            " 26  Dalc        395 non-null    int64 \n",
            " 27  Walc        395 non-null    int64 \n",
            " 28  health      395 non-null    int64 \n",
            " 29  absences    395 non-null    int64 \n",
            " 30  G1          395 non-null    int64 \n",
            " 31  G2          395 non-null    int64 \n",
            " 32  G3          395 non-null    int64 \n",
            "dtypes: int64(16), object(17)\n",
            "memory usage: 102.0+ KB\n",
            "None\n"
          ]
        }
      ],
      "source": [
        "print('Informações Gerais:\\n')\n",
        "print(dados.info())"
      ]
    },
    {
      "cell_type": "code",
      "execution_count": null,
      "metadata": {
        "colab": {
          "base_uri": "https://localhost:8080/"
        },
        "id": "xQ2cTd_1zI1l",
        "outputId": "57e2ff17-8273-4274-f0af-12cbd854ed04"
      },
      "outputs": [
        {
          "name": "stdout",
          "output_type": "stream",
          "text": [
            "Colunas: \n",
            " Index(['school', 'sex', 'age', 'address', 'famsize', 'Pstatus', 'Medu', 'Fedu',\n",
            "       'Mjob', 'Fjob', 'reason', 'guardian', 'traveltime', 'studytime',\n",
            "       'failures', 'schoolsup', 'famsup', 'paid', 'activities', 'nursery',\n",
            "       'higher', 'internet', 'romantic', 'famrel', 'freetime', 'goout', 'Dalc',\n",
            "       'Walc', 'health', 'absences', 'G1', 'G2', 'G3'],\n",
            "      dtype='object')\n"
          ]
        }
      ],
      "source": [
        "print(\"Colunas: \\n\",dados.columns)"
      ]
    },
    {
      "cell_type": "markdown",
      "metadata": {
        "id": "bqgCuQoNtPMA"
      },
      "source": [
        "# Descrição das Colunas"
      ]
    },
    {
      "cell_type": "code",
      "execution_count": null,
      "metadata": {
        "colab": {
          "base_uri": "https://localhost:8080/",
          "height": 140
        },
        "id": "dhUM0mUvwbfN",
        "outputId": "d29590f1-6030-4c40-f085-830a78a94dc3"
      },
      "outputs": [
        {
          "data": {
            "application/vnd.google.colaboratory.intrinsic+json": {
              "type": "string"
            },
            "text/plain": [
              "\"\\nAtributos para os conjuntos de dados student-mat.csv (curso de matemática):\\n\\nschool - escola do aluno (binário: 'GP' - Gabriel Pereira ou 'MS' - Mousinho da Silveira)\\nsex - sexo do aluno (binário: 'F' - feminino ou 'M' - masculino)\\nage - idade do aluno (numérico: de 15 a 22)\\naddress - tipo de endereço residencial do aluno (binário: 'U' - urbano ou 'R' - rural)\\nfamsize - tamanho da família (binário: 'LE3' - menor ou igual a 3 ou 'GT3' - maior que 3)\\nPstatus - status de coabitação dos pais (binário: 'T' - vivendo juntos ou 'A' - separados)\\nMedu - escolaridade da mãe (numérico: 0 - nenhuma, 1 - ensino fundamental (4ª série), 2 - 5ª a 9ª série, 3 - ensino médio ou 4 - ensino superior)\\nFedu - escolaridade do pai (numérico: 0 - nenhuma, 1 - ensino fundamental (4º ano), 2 - 5º ao 9º ano, 3 - ensino médio ou 4 - ensino superior)\\nMjob - trabalho da mãe (nominal: 'professora', 'cuidados de saúde' relacionados, 'serviços' civis (por exemplo, administrativo ou policial), 'em_ casa' ou 'outro')\\nFjob - trabalho do pai (nominal: 'professor', 'saúde' relacionado, 'serviços' civis (por exemplo, administrativo ou policial), 'em_ casa' ou 'outro')\\nreason - razão para escolher esta escola (nominal: perto de 'casa', 'reputação' da escola, preferência de 'curso' ou 'outra')\\nguardian - tutor do aluno (nominal: 'mãe', 'pai' ou 'outro')\\ntraveltime - tempo de viagem de casa para a escola (numérico: 1 - <15 min., 2 - 15 a 30 min., 3 - 30 min. a 1 hora, ou 4 -> 1 hora)\\nstudytime - tempo de estudo semanal (numérico: 1 - <2 horas, 2 - 2 a 5 horas, 3 - 5 a 10 horas, ou 4 -> 10 horas)\\nfailures - número de falhas de classe anteriores (numérico: n se 1 <= n <3, senão 4)\\nschoolup - suporte educacional extra (binário: sim ou não)\\nfamsup - apoio educacional à família (binário: sim ou não)\\npaid - aulas extras pagas dentro da disciplina Matemática (binário: sim ou não)\\nactivities - atividades extracurriculares (binárias: sim ou não)\\nnursery - frequentou creche (binário: sim ou não)\\nhigher - deseja cursar o ensino superior (binário: sim ou não)\\ninternet - acesso à internet em casa (binário: sim ou não)\\nromantic - com um relacionamento romântico (binário: sim ou não)\\nfamrel - qualidade das relações familiares (numérico: de 1 - muito ruim a 5 - excelente)\\nfreetime - tempo livre depois da escola (numérico: de 1 - muito baixo a 5 - muito alto)\\ngoout - sair com amigos (numérico: de 1 - muito baixo a 5 - muito alto)\\nDalc - consumo de álcool durante o trabalho (numérico: de 1 - muito baixo a 5 - muito alto)\\nWalc - consumo de álcool no fim de semana (numérico: de 1 - muito baixo a 5 - muito alto)\\nhealth - estado de saúde atual (numérico: de 1 - muito ruim a 5 - muito bom)\\nabsences - número de faltas escolares (numérico: de 0 a 93)\\n\\nEssas notas estão relacionadas com a matéria do curso:\\n\\nG1 - nota do primeiro período (numérico: de 0 a 20)\\nG2 - nota do segundo período (numérico: de 0 a 20)\\nG3 - nota final (numérico: de 0 a 20, meta de saída)\\n\""
            ]
          },
          "execution_count": 6,
          "metadata": {},
          "output_type": "execute_result"
        }
      ],
      "source": [
        "\"\"\"\n",
        "Atributos para os conjuntos de dados student-mat.csv (curso de matemática):\n",
        "\n",
        "school - escola do aluno (binário: 'GP' - Gabriel Pereira ou 'MS' - Mousinho da Silveira)\n",
        "sex - sexo do aluno (binário: 'F' - feminino ou 'M' - masculino)\n",
        "age - idade do aluno (numérico: de 15 a 22)\n",
        "address - tipo de endereço residencial do aluno (binário: 'U' - urbano ou 'R' - rural)\n",
        "famsize - tamanho da família (binário: 'LE3' - menor ou igual a 3 ou 'GT3' - maior que 3)\n",
        "Pstatus - status de coabitação dos pais (binário: 'T' - vivendo juntos ou 'A' - separados)\n",
        "Medu - escolaridade da mãe (numérico: 0 - nenhuma, 1 - ensino fundamental (4ª série), 2 - 5ª a 9ª série, 3 - ensino médio ou 4 - ensino superior)\n",
        "Fedu - escolaridade do pai (numérico: 0 - nenhuma, 1 - ensino fundamental (4º ano), 2 - 5º ao 9º ano, 3 - ensino médio ou 4 - ensino superior)\n",
        "Mjob - trabalho da mãe (nominal: 'professora', 'cuidados de saúde' relacionados, 'serviços' civis (por exemplo, administrativo ou policial), 'em_ casa' ou 'outro')\n",
        "Fjob - trabalho do pai (nominal: 'professor', 'saúde' relacionado, 'serviços' civis (por exemplo, administrativo ou policial), 'em_ casa' ou 'outro')\n",
        "reason - razão para escolher esta escola (nominal: perto de 'casa', 'reputação' da escola, preferência de 'curso' ou 'outra')\n",
        "guardian - tutor do aluno (nominal: 'mãe', 'pai' ou 'outro')\n",
        "traveltime - tempo de viagem de casa para a escola (numérico: 1 - <15 min., 2 - 15 a 30 min., 3 - 30 min. a 1 hora, ou 4 -> 1 hora)\n",
        "studytime - tempo de estudo semanal (numérico: 1 - <2 horas, 2 - 2 a 5 horas, 3 - 5 a 10 horas, ou 4 -> 10 horas)\n",
        "failures - número de falhas de classe anteriores (numérico: n se 1 <= n <3, senão 4)\n",
        "schoolup - suporte educacional extra (binário: sim ou não)\n",
        "famsup - apoio educacional à família (binário: sim ou não)\n",
        "paid - aulas extras pagas dentro da disciplina Matemática (binário: sim ou não)\n",
        "activities - atividades extracurriculares (binárias: sim ou não)\n",
        "nursery - frequentou creche (binário: sim ou não)\n",
        "higher - deseja cursar o ensino superior (binário: sim ou não)\n",
        "internet - acesso à internet em casa (binário: sim ou não)\n",
        "romantic - com um relacionamento romântico (binário: sim ou não)\n",
        "famrel - qualidade das relações familiares (numérico: de 1 - muito ruim a 5 - excelente)\n",
        "freetime - tempo livre depois da escola (numérico: de 1 - muito baixo a 5 - muito alto)\n",
        "goout - sair com amigos (numérico: de 1 - muito baixo a 5 - muito alto)\n",
        "Dalc - consumo de álcool durante o trabalho (numérico: de 1 - muito baixo a 5 - muito alto)\n",
        "Walc - consumo de álcool no fim de semana (numérico: de 1 - muito baixo a 5 - muito alto)\n",
        "health - estado de saúde atual (numérico: de 1 - muito ruim a 5 - muito bom)\n",
        "absences - número de faltas escolares (numérico: de 0 a 93)\n",
        "\n",
        "Essas notas estão relacionadas com a matéria do curso:\n",
        "\n",
        "G1 - nota do primeiro período (numérico: de 0 a 20)\n",
        "G2 - nota do segundo período (numérico: de 0 a 20)\n",
        "G3 - nota final (numérico: de 0 a 20, meta de saída)\n",
        "\"\"\""
      ]
    },
    {
      "cell_type": "markdown",
      "metadata": {
        "id": "rkPSeb3bGYVh"
      },
      "source": [
        "# Parte I. Estatística Descritiva – Medidas"
      ]
    },
    {
      "cell_type": "markdown",
      "metadata": {
        "id": "bsijVpXgk2-a"
      },
      "source": [
        "## Média"
      ]
    },
    {
      "cell_type": "markdown",
      "metadata": {
        "id": "6SiA0dbQ7-7w"
      },
      "source": [
        "* Qual a média de idade dos estudantes?"
      ]
    },
    {
      "cell_type": "code",
      "execution_count": null,
      "metadata": {
        "colab": {
          "base_uri": "https://localhost:8080/"
        },
        "id": "HPgAD6vM7_nd",
        "outputId": "1f14930f-972f-4d7e-acb2-b1f6c2f041cf"
      },
      "outputs": [
        {
          "name": "stdout",
          "output_type": "stream",
          "text": [
            "A média é de 16.70 anos.\n"
          ]
        }
      ],
      "source": [
        "media = dados[\"age\"].mean()\n",
        "print(\"A média é de %.2f\" %media , \"anos.\")"
      ]
    },
    {
      "cell_type": "markdown",
      "metadata": {
        "id": "fpz_6NFfsGtD"
      },
      "source": [
        "* Conforme a idade aumenta, os jovens tendem a beber mais no final de semana?\n"
      ]
    },
    {
      "cell_type": "code",
      "execution_count": null,
      "metadata": {
        "colab": {
          "base_uri": "https://localhost:8080/"
        },
        "id": "JpMWT0jusGtE",
        "outputId": "78fb84c3-f52d-44f8-833f-b664709d6600"
      },
      "outputs": [
        {
          "name": "stdout",
          "output_type": "stream",
          "text": [
            "Analisando as médias e os valores, obtemos o seguinte:\n",
            "age\n",
            "15    1.902439\n",
            "16    2.278846\n",
            "17    2.571429\n",
            "18    2.414634\n",
            "19    1.958333\n",
            "20    2.333333\n",
            "21    3.000000\n",
            "22    5.000000\n",
            "Name: Walc, dtype: float64\n",
            "Com base nos dados, observamos uma tendência para beber no final de semana com o aumento das idades.\n"
          ]
        }
      ],
      "source": [
        "j = dados.groupby('age')['Walc'].mean()\n",
        "print(\"Analisando as médias e os valores, obtemos o seguinte:\")\n",
        "print(j)\n",
        "print(\"Com base nos dados, observamos uma tendência para beber no final de semana com o aumento das idades.\")"
      ]
    },
    {
      "cell_type": "markdown",
      "metadata": {
        "id": "ECgr_194lGec"
      },
      "source": [
        "## Mediana"
      ]
    },
    {
      "cell_type": "markdown",
      "metadata": {
        "id": "xODo5VGS8WmD"
      },
      "source": [
        "* Qual a mediana do tempo livre dos estudantes depois da escola?"
      ]
    },
    {
      "cell_type": "code",
      "execution_count": null,
      "metadata": {
        "colab": {
          "base_uri": "https://localhost:8080/"
        },
        "id": "vu-63FP89JWM",
        "outputId": "95c9ba5f-611b-4e73-e69d-6bcb652d412a"
      },
      "outputs": [
        {
          "name": "stdout",
          "output_type": "stream",
          "text": [
            "A mediana do tempo livre é de 3.0\n"
          ]
        }
      ],
      "source": [
        "mediana = dados[\"freetime\"].median()\n",
        "print(\"A mediana do tempo livre é de\", mediana)"
      ]
    },
    {
      "cell_type": "markdown",
      "metadata": {
        "id": "sybM4RUr9eKK"
      },
      "source": [
        "* Qual a mediana do número de vezes que os estudantes saem com amigos?"
      ]
    },
    {
      "cell_type": "code",
      "execution_count": null,
      "metadata": {
        "colab": {
          "base_uri": "https://localhost:8080/"
        },
        "id": "In4eUam69lIE",
        "outputId": "e9349678-07e6-45d7-aca1-9a79e7e0f86f"
      },
      "outputs": [
        {
          "name": "stdout",
          "output_type": "stream",
          "text": [
            "A mediana é de 3.11 vezes.\n"
          ]
        }
      ],
      "source": [
        "mediana = dados[\"goout\"].mean()\n",
        "print(\"A mediana é de %.2f\"%mediana, \"vezes.\")"
      ]
    },
    {
      "cell_type": "markdown",
      "metadata": {
        "id": "mnO5p5LwlJM9"
      },
      "source": [
        "## Moda"
      ]
    },
    {
      "cell_type": "markdown",
      "metadata": {
        "id": "RB11BjWn9tSx"
      },
      "source": [
        "* Qual a moda do consumo de álcool durante o dia útil?"
      ]
    },
    {
      "cell_type": "code",
      "execution_count": null,
      "metadata": {
        "colab": {
          "base_uri": "https://localhost:8080/"
        },
        "id": "45GWP16E-Buh",
        "outputId": "4eef8043-a7c2-4708-d4b0-f3c7aec79554"
      },
      "outputs": [
        {
          "name": "stdout",
          "output_type": "stream",
          "text": [
            "A moda é de  1 , o que representa um consumo muito baixo durante os dias uteis.\n"
          ]
        }
      ],
      "source": [
        "moda1 = dados[\"Dalc\"].mode()\n",
        "print(\"A moda é de\",moda1.to_string(index=False), \", o que representa um consumo muito baixo durante os dias uteis.\")"
      ]
    },
    {
      "cell_type": "markdown",
      "metadata": {
        "id": "Q5SFbyZ_S7Ul"
      },
      "source": [
        "* Qual a moda do consumo de álcool no fim de semana?\n"
      ]
    },
    {
      "cell_type": "code",
      "execution_count": null,
      "metadata": {
        "colab": {
          "base_uri": "https://localhost:8080/"
        },
        "id": "IZqzhUgRS85c",
        "outputId": "9364b4c3-9e30-4467-e5ff-d5b956b16262"
      },
      "outputs": [
        {
          "name": "stdout",
          "output_type": "stream",
          "text": [
            "A moda é de  1 , significa, também, um consumo de álcool muito baixo no fim de semana.\n"
          ]
        }
      ],
      "source": [
        "moda2 = dados[\"Walc\"].mode()\n",
        "print(\"A moda é de\", moda2.to_string(index=False), \", significa, também, um consumo de álcool muito baixo no fim de semana.\")"
      ]
    },
    {
      "cell_type": "markdown",
      "metadata": {
        "id": "f75s1KUTlOF1"
      },
      "source": [
        "## Desvio Padrão"
      ]
    },
    {
      "cell_type": "markdown",
      "metadata": {
        "id": "UkVzofe-e6xG"
      },
      "source": [
        "* Qual o desvio padrão do número de faltas?"
      ]
    },
    {
      "cell_type": "code",
      "execution_count": null,
      "metadata": {
        "colab": {
          "base_uri": "https://localhost:8080/"
        },
        "id": "5C5oyR7qe9ab",
        "outputId": "74202402-6e3e-4108-99a6-951bf955736d"
      },
      "outputs": [
        {
          "name": "stdout",
          "output_type": "stream",
          "text": [
            "O desvio padrão é 8.00\n"
          ]
        }
      ],
      "source": [
        "dp_faltas = dados.absences.std()\n",
        "print(\"O desvio padrão é %.2f\"% dp_faltas)"
      ]
    },
    {
      "cell_type": "markdown",
      "metadata": {
        "id": "X2g9_GSgsL-4"
      },
      "source": [
        "* Qual o desvio padrão de cada um dos períodos e da nota final?\n"
      ]
    },
    {
      "cell_type": "code",
      "execution_count": null,
      "metadata": {
        "colab": {
          "base_uri": "https://localhost:8080/"
        },
        "id": "QHsyq_p5WozU",
        "outputId": "b5d502a3-40ae-4903-ea3d-067a675a6214"
      },
      "outputs": [
        {
          "name": "stdout",
          "output_type": "stream",
          "text": [
            "O desvio padrão do primeiro período é 3.32\n",
            "O desvio padrão do segundo período é 3.76\n",
            "O desvio padrão da nota final é 4.58\n"
          ]
        }
      ],
      "source": [
        "dp_p1 = dados.G1.std()\n",
        "dp_p2 = dados.G2.std()\n",
        "dp_final = dados.G3.std()\n",
        "print(\"O desvio padrão do primeiro período é %.2f\"% dp_p1 )\n",
        "print(\"O desvio padrão do segundo período é %.2f\"% dp_p2 )\n",
        "print(\"O desvio padrão da nota final é %.2f\"% dp_final )"
      ]
    },
    {
      "cell_type": "markdown",
      "metadata": {
        "id": "6FXwRtgLlRh1"
      },
      "source": [
        "## Amplitude"
      ]
    },
    {
      "cell_type": "markdown",
      "metadata": {
        "id": "0FT0b7nfMw9E"
      },
      "source": [
        "* Qual amplitude das notas finais dos alunos?\n"
      ]
    },
    {
      "cell_type": "code",
      "execution_count": null,
      "metadata": {
        "colab": {
          "base_uri": "https://localhost:8080/"
        },
        "id": "qrkxd2NuM6PY",
        "outputId": "e1ac447b-5918-4069-ca39-9e6f7ce2bf6d"
      },
      "outputs": [
        {
          "name": "stdout",
          "output_type": "stream",
          "text": [
            "A amplitude é de 20\n"
          ]
        }
      ],
      "source": [
        "amplitude = (dados['G3'].max() - dados['G3'].min())\n",
        "print(\"A amplitude é de\" ,amplitude)"
      ]
    },
    {
      "cell_type": "markdown",
      "metadata": {
        "id": "7DA7L7f3NHZz"
      },
      "source": [
        "* Qual amplitude de faltas dos alunos?\n"
      ]
    },
    {
      "cell_type": "code",
      "execution_count": null,
      "metadata": {
        "colab": {
          "base_uri": "https://localhost:8080/"
        },
        "id": "05EU-WUmNMrV",
        "outputId": "e66c29d1-2048-4da0-f2c4-11d1d500874e"
      },
      "outputs": [
        {
          "name": "stdout",
          "output_type": "stream",
          "text": [
            "A amplitide de faltas é de  75\n"
          ]
        }
      ],
      "source": [
        "amplitude = (dados['absences'].max() - dados['absences'].min())\n",
        "print(\"A amplitide de faltas é de \", amplitude)"
      ]
    },
    {
      "cell_type": "markdown",
      "metadata": {
        "id": "jN-7iGGnlV20"
      },
      "source": [
        "## Regressão"
      ]
    },
    {
      "cell_type": "markdown",
      "metadata": {
        "id": "LM3ogyNAqMny"
      },
      "source": [
        "* Qual seria o valor previsto para o consumo de álcool no final de semana para alguém com 30 anos e 40 anos?"
      ]
    },
    {
      "cell_type": "code",
      "execution_count": null,
      "metadata": {
        "colab": {
          "base_uri": "https://localhost:8080/"
        },
        "id": "0I5hZzqkqZpB",
        "outputId": "d8386420-8007-4b86-ede6-19977d75c855"
      },
      "outputs": [
        {
          "name": "stdout",
          "output_type": "stream",
          "text": [
            "Para alguém com 30 anos, o valor futuro que representaria o possível consumo de álcool é 3.87 representando um valor quase alto.\n",
            "Para alguém com 40 anos, o valor futuro que representaria o possível consumo de álcool é 5.05 demosntrando um valor muito alto.\n"
          ]
        }
      ],
      "source": [
        "import numpy as np\n",
        "a,b = np.polyfit(x=dados[\"age\"], y =dados[\"Walc\"], deg = 1)\n",
        "\n",
        "x = 30\n",
        "y = a*x +b\n",
        "print(\"Para alguém com 30 anos, o valor futuro que representaria o possível consumo de álcool é %.2f\"% y,\"representando um valor quase alto.\")\n",
        "\n",
        "x = 40\n",
        "y = a*x +b\n",
        "print(\"Para alguém com 40 anos, o valor futuro que representaria o possível consumo de álcool é %.2f\"% y,\"demosntrando um valor muito alto.\")"
      ]
    },
    {
      "cell_type": "markdown",
      "metadata": {
        "id": "dAtCE2jZnQy3"
      },
      "source": [
        "* Qual a relação familiar prevista para um estudante com 20 anos e depois com 30 anos?"
      ]
    },
    {
      "cell_type": "code",
      "execution_count": null,
      "metadata": {
        "colab": {
          "base_uri": "https://localhost:8080/"
        },
        "id": "DzkPpzYim5MR",
        "outputId": "c5b8673c-cb11-4525-f5c8-075aaab75672"
      },
      "outputs": [
        {
          "name": "stdout",
          "output_type": "stream",
          "text": [
            "Analisando os resultados, com 20 e 30 anos a relação seria caracterizada como muito boa. Sendo 4.07 para 20 anos e 4.45 para 30 anos.\n"
          ]
        }
      ],
      "source": [
        "m,b = np.polyfit(x=dados[\"age\"], y =dados[\"famrel\"], deg = 1)\n",
        "\n",
        "x1 = 20\n",
        "y1 = m*x1 + b\n",
        "\n",
        "x2 = 30\n",
        "y2 = m*x2 + b\n",
        "\n",
        "print(\"Analisando os resultados, com 20 e 30 anos a relação seria caracterizada como muito boa. Sendo %.2f\"% y1,\"para 20 anos e %.2f\"% y2,\"para 30 anos.\")"
      ]
    },
    {
      "cell_type": "code",
      "execution_count": null,
      "metadata": {
        "colab": {
          "base_uri": "https://localhost:8080/"
        },
        "id": "d9UD6Xj0f-eb",
        "outputId": "496b0534-e3ed-44f2-a802-89a8f7246d23"
      },
      "outputs": [
        {
          "name": "stdout",
          "output_type": "stream",
          "text": [
            "Variáveis Dependentes: \n",
            " Mjob\t \n",
            " Fjob\t\n",
            " guardian\t\n",
            " traveltime \n",
            " studytime \n",
            " failures\t\n",
            " schoolsup \n",
            " famsup \n",
            " paid \n",
            " activities \n",
            " nursery \n",
            " higher\t\n",
            " internet\t\n",
            " famrel\t\n",
            " freetime \n",
            " goout \n",
            " Dalc\t\n",
            " Walc\t\n",
            " health\t\n",
            " absences\t\n",
            " G1\t\n",
            " G2\t\n",
            " G3\n"
          ]
        }
      ],
      "source": [
        "print(\"Variáveis Dependentes: \\n Mjob\t \\n Fjob\t\\n guardian\t\\n traveltime \\n studytime \\n failures\t\\n schoolsup \\n famsup \\n paid \\n activities \\n nursery \\n higher\t\\n internet\t\\n famrel\t\\n freetime \\n goout \\n Dalc\t\\n Walc\t\\n health\t\\n absences\t\\n G1\t\\n G2\t\\n G3\")"
      ]
    },
    {
      "cell_type": "markdown",
      "metadata": {
        "id": "VvKLnLWcWMzd"
      },
      "source": [
        "## Correlações (não se aplicam)\n"
      ]
    },
    {
      "cell_type": "code",
      "execution_count": null,
      "metadata": {
        "colab": {
          "base_uri": "https://localhost:8080/"
        },
        "id": "dlNoa9HtgBiH",
        "outputId": "3133a309-041e-423e-9df0-6e66e16f5873"
      },
      "outputs": [
        {
          "name": "stdout",
          "output_type": "stream",
          "text": [
            "Variáveis Independentes: \n",
            " school \n",
            " sex \n",
            " age\t\n",
            " address \n",
            " famsize \n",
            " Medu\t\n",
            " Fedu\t\n",
            " Pstatus \n",
            " romantic \n",
            " reason\n"
          ]
        }
      ],
      "source": [
        "print(\"Variáveis Independentes: \\n school \\n sex \\n age\t\\n address \\n famsize \\n Medu\t\\n Fedu\t\\n Pstatus \\n romantic \\n reason\")"
      ]
    },
    {
      "cell_type": "code",
      "execution_count": null,
      "metadata": {
        "colab": {
          "base_uri": "https://localhost:8080/",
          "height": 562
        },
        "id": "kLtQpOoXdbqG",
        "outputId": "797cbf51-598c-46ba-adfb-3c83b91ba52c"
      },
      "outputs": [
        {
          "name": "stdout",
          "output_type": "stream",
          "text": [
            "As correlações são possíveis, porém não são significativas, visto que todas tendem a zero.\n"
          ]
        },
        {
          "data": {
            "text/html": [
              "<div>\n",
              "<style scoped>\n",
              "    .dataframe tbody tr th:only-of-type {\n",
              "        vertical-align: middle;\n",
              "    }\n",
              "\n",
              "    .dataframe tbody tr th {\n",
              "        vertical-align: top;\n",
              "    }\n",
              "\n",
              "    .dataframe thead th {\n",
              "        text-align: right;\n",
              "    }\n",
              "</style>\n",
              "<table border=\"1\" class=\"dataframe\">\n",
              "  <thead>\n",
              "    <tr style=\"text-align: right;\">\n",
              "      <th></th>\n",
              "      <th>age</th>\n",
              "      <th>Medu</th>\n",
              "      <th>Fedu</th>\n",
              "      <th>traveltime</th>\n",
              "      <th>studytime</th>\n",
              "      <th>failures</th>\n",
              "      <th>famrel</th>\n",
              "      <th>freetime</th>\n",
              "      <th>goout</th>\n",
              "      <th>Dalc</th>\n",
              "      <th>Walc</th>\n",
              "      <th>health</th>\n",
              "      <th>absences</th>\n",
              "      <th>G1</th>\n",
              "      <th>G2</th>\n",
              "      <th>G3</th>\n",
              "    </tr>\n",
              "  </thead>\n",
              "  <tbody>\n",
              "    <tr>\n",
              "      <th>age</th>\n",
              "      <td>1.000000</td>\n",
              "      <td>-0.163658</td>\n",
              "      <td>-0.163438</td>\n",
              "      <td>0.070641</td>\n",
              "      <td>-0.004140</td>\n",
              "      <td>0.243665</td>\n",
              "      <td>0.053940</td>\n",
              "      <td>0.016434</td>\n",
              "      <td>0.126964</td>\n",
              "      <td>0.131125</td>\n",
              "      <td>0.117276</td>\n",
              "      <td>-0.062187</td>\n",
              "      <td>0.175230</td>\n",
              "      <td>-0.064081</td>\n",
              "      <td>-0.143474</td>\n",
              "      <td>-0.161579</td>\n",
              "    </tr>\n",
              "    <tr>\n",
              "      <th>Medu</th>\n",
              "      <td>-0.163658</td>\n",
              "      <td>1.000000</td>\n",
              "      <td>0.623455</td>\n",
              "      <td>-0.171639</td>\n",
              "      <td>0.064944</td>\n",
              "      <td>-0.236680</td>\n",
              "      <td>-0.003914</td>\n",
              "      <td>0.030891</td>\n",
              "      <td>0.064094</td>\n",
              "      <td>0.019834</td>\n",
              "      <td>-0.047123</td>\n",
              "      <td>-0.046878</td>\n",
              "      <td>0.100285</td>\n",
              "      <td>0.205341</td>\n",
              "      <td>0.215527</td>\n",
              "      <td>0.217147</td>\n",
              "    </tr>\n",
              "    <tr>\n",
              "      <th>Fedu</th>\n",
              "      <td>-0.163438</td>\n",
              "      <td>0.623455</td>\n",
              "      <td>1.000000</td>\n",
              "      <td>-0.158194</td>\n",
              "      <td>-0.009175</td>\n",
              "      <td>-0.250408</td>\n",
              "      <td>-0.001370</td>\n",
              "      <td>-0.012846</td>\n",
              "      <td>0.043105</td>\n",
              "      <td>0.002386</td>\n",
              "      <td>-0.012631</td>\n",
              "      <td>0.014742</td>\n",
              "      <td>0.024473</td>\n",
              "      <td>0.190270</td>\n",
              "      <td>0.164893</td>\n",
              "      <td>0.152457</td>\n",
              "    </tr>\n",
              "    <tr>\n",
              "      <th>traveltime</th>\n",
              "      <td>0.070641</td>\n",
              "      <td>-0.171639</td>\n",
              "      <td>-0.158194</td>\n",
              "      <td>1.000000</td>\n",
              "      <td>-0.100909</td>\n",
              "      <td>0.092239</td>\n",
              "      <td>-0.016808</td>\n",
              "      <td>-0.017025</td>\n",
              "      <td>0.028540</td>\n",
              "      <td>0.138325</td>\n",
              "      <td>0.134116</td>\n",
              "      <td>0.007501</td>\n",
              "      <td>-0.012944</td>\n",
              "      <td>-0.093040</td>\n",
              "      <td>-0.153198</td>\n",
              "      <td>-0.117142</td>\n",
              "    </tr>\n",
              "    <tr>\n",
              "      <th>studytime</th>\n",
              "      <td>-0.004140</td>\n",
              "      <td>0.064944</td>\n",
              "      <td>-0.009175</td>\n",
              "      <td>-0.100909</td>\n",
              "      <td>1.000000</td>\n",
              "      <td>-0.173563</td>\n",
              "      <td>0.039731</td>\n",
              "      <td>-0.143198</td>\n",
              "      <td>-0.063904</td>\n",
              "      <td>-0.196019</td>\n",
              "      <td>-0.253785</td>\n",
              "      <td>-0.075616</td>\n",
              "      <td>-0.062700</td>\n",
              "      <td>0.160612</td>\n",
              "      <td>0.135880</td>\n",
              "      <td>0.097820</td>\n",
              "    </tr>\n",
              "    <tr>\n",
              "      <th>failures</th>\n",
              "      <td>0.243665</td>\n",
              "      <td>-0.236680</td>\n",
              "      <td>-0.250408</td>\n",
              "      <td>0.092239</td>\n",
              "      <td>-0.173563</td>\n",
              "      <td>1.000000</td>\n",
              "      <td>-0.044337</td>\n",
              "      <td>0.091987</td>\n",
              "      <td>0.124561</td>\n",
              "      <td>0.136047</td>\n",
              "      <td>0.141962</td>\n",
              "      <td>0.065827</td>\n",
              "      <td>0.063726</td>\n",
              "      <td>-0.354718</td>\n",
              "      <td>-0.355896</td>\n",
              "      <td>-0.360415</td>\n",
              "    </tr>\n",
              "    <tr>\n",
              "      <th>famrel</th>\n",
              "      <td>0.053940</td>\n",
              "      <td>-0.003914</td>\n",
              "      <td>-0.001370</td>\n",
              "      <td>-0.016808</td>\n",
              "      <td>0.039731</td>\n",
              "      <td>-0.044337</td>\n",
              "      <td>1.000000</td>\n",
              "      <td>0.150701</td>\n",
              "      <td>0.064568</td>\n",
              "      <td>-0.077594</td>\n",
              "      <td>-0.113397</td>\n",
              "      <td>0.094056</td>\n",
              "      <td>-0.044354</td>\n",
              "      <td>0.022168</td>\n",
              "      <td>-0.018281</td>\n",
              "      <td>0.051363</td>\n",
              "    </tr>\n",
              "    <tr>\n",
              "      <th>freetime</th>\n",
              "      <td>0.016434</td>\n",
              "      <td>0.030891</td>\n",
              "      <td>-0.012846</td>\n",
              "      <td>-0.017025</td>\n",
              "      <td>-0.143198</td>\n",
              "      <td>0.091987</td>\n",
              "      <td>0.150701</td>\n",
              "      <td>1.000000</td>\n",
              "      <td>0.285019</td>\n",
              "      <td>0.209001</td>\n",
              "      <td>0.147822</td>\n",
              "      <td>0.075733</td>\n",
              "      <td>-0.058078</td>\n",
              "      <td>0.012613</td>\n",
              "      <td>-0.013777</td>\n",
              "      <td>0.011307</td>\n",
              "    </tr>\n",
              "    <tr>\n",
              "      <th>goout</th>\n",
              "      <td>0.126964</td>\n",
              "      <td>0.064094</td>\n",
              "      <td>0.043105</td>\n",
              "      <td>0.028540</td>\n",
              "      <td>-0.063904</td>\n",
              "      <td>0.124561</td>\n",
              "      <td>0.064568</td>\n",
              "      <td>0.285019</td>\n",
              "      <td>1.000000</td>\n",
              "      <td>0.266994</td>\n",
              "      <td>0.420386</td>\n",
              "      <td>-0.009577</td>\n",
              "      <td>0.044302</td>\n",
              "      <td>-0.149104</td>\n",
              "      <td>-0.162250</td>\n",
              "      <td>-0.132791</td>\n",
              "    </tr>\n",
              "    <tr>\n",
              "      <th>Dalc</th>\n",
              "      <td>0.131125</td>\n",
              "      <td>0.019834</td>\n",
              "      <td>0.002386</td>\n",
              "      <td>0.138325</td>\n",
              "      <td>-0.196019</td>\n",
              "      <td>0.136047</td>\n",
              "      <td>-0.077594</td>\n",
              "      <td>0.209001</td>\n",
              "      <td>0.266994</td>\n",
              "      <td>1.000000</td>\n",
              "      <td>0.647544</td>\n",
              "      <td>0.077180</td>\n",
              "      <td>0.111908</td>\n",
              "      <td>-0.094159</td>\n",
              "      <td>-0.064120</td>\n",
              "      <td>-0.054660</td>\n",
              "    </tr>\n",
              "    <tr>\n",
              "      <th>Walc</th>\n",
              "      <td>0.117276</td>\n",
              "      <td>-0.047123</td>\n",
              "      <td>-0.012631</td>\n",
              "      <td>0.134116</td>\n",
              "      <td>-0.253785</td>\n",
              "      <td>0.141962</td>\n",
              "      <td>-0.113397</td>\n",
              "      <td>0.147822</td>\n",
              "      <td>0.420386</td>\n",
              "      <td>0.647544</td>\n",
              "      <td>1.000000</td>\n",
              "      <td>0.092476</td>\n",
              "      <td>0.136291</td>\n",
              "      <td>-0.126179</td>\n",
              "      <td>-0.084927</td>\n",
              "      <td>-0.051939</td>\n",
              "    </tr>\n",
              "    <tr>\n",
              "      <th>health</th>\n",
              "      <td>-0.062187</td>\n",
              "      <td>-0.046878</td>\n",
              "      <td>0.014742</td>\n",
              "      <td>0.007501</td>\n",
              "      <td>-0.075616</td>\n",
              "      <td>0.065827</td>\n",
              "      <td>0.094056</td>\n",
              "      <td>0.075733</td>\n",
              "      <td>-0.009577</td>\n",
              "      <td>0.077180</td>\n",
              "      <td>0.092476</td>\n",
              "      <td>1.000000</td>\n",
              "      <td>-0.029937</td>\n",
              "      <td>-0.073172</td>\n",
              "      <td>-0.097720</td>\n",
              "      <td>-0.061335</td>\n",
              "    </tr>\n",
              "    <tr>\n",
              "      <th>absences</th>\n",
              "      <td>0.175230</td>\n",
              "      <td>0.100285</td>\n",
              "      <td>0.024473</td>\n",
              "      <td>-0.012944</td>\n",
              "      <td>-0.062700</td>\n",
              "      <td>0.063726</td>\n",
              "      <td>-0.044354</td>\n",
              "      <td>-0.058078</td>\n",
              "      <td>0.044302</td>\n",
              "      <td>0.111908</td>\n",
              "      <td>0.136291</td>\n",
              "      <td>-0.029937</td>\n",
              "      <td>1.000000</td>\n",
              "      <td>-0.031003</td>\n",
              "      <td>-0.031777</td>\n",
              "      <td>0.034247</td>\n",
              "    </tr>\n",
              "    <tr>\n",
              "      <th>G1</th>\n",
              "      <td>-0.064081</td>\n",
              "      <td>0.205341</td>\n",
              "      <td>0.190270</td>\n",
              "      <td>-0.093040</td>\n",
              "      <td>0.160612</td>\n",
              "      <td>-0.354718</td>\n",
              "      <td>0.022168</td>\n",
              "      <td>0.012613</td>\n",
              "      <td>-0.149104</td>\n",
              "      <td>-0.094159</td>\n",
              "      <td>-0.126179</td>\n",
              "      <td>-0.073172</td>\n",
              "      <td>-0.031003</td>\n",
              "      <td>1.000000</td>\n",
              "      <td>0.852118</td>\n",
              "      <td>0.801468</td>\n",
              "    </tr>\n",
              "    <tr>\n",
              "      <th>G2</th>\n",
              "      <td>-0.143474</td>\n",
              "      <td>0.215527</td>\n",
              "      <td>0.164893</td>\n",
              "      <td>-0.153198</td>\n",
              "      <td>0.135880</td>\n",
              "      <td>-0.355896</td>\n",
              "      <td>-0.018281</td>\n",
              "      <td>-0.013777</td>\n",
              "      <td>-0.162250</td>\n",
              "      <td>-0.064120</td>\n",
              "      <td>-0.084927</td>\n",
              "      <td>-0.097720</td>\n",
              "      <td>-0.031777</td>\n",
              "      <td>0.852118</td>\n",
              "      <td>1.000000</td>\n",
              "      <td>0.904868</td>\n",
              "    </tr>\n",
              "    <tr>\n",
              "      <th>G3</th>\n",
              "      <td>-0.161579</td>\n",
              "      <td>0.217147</td>\n",
              "      <td>0.152457</td>\n",
              "      <td>-0.117142</td>\n",
              "      <td>0.097820</td>\n",
              "      <td>-0.360415</td>\n",
              "      <td>0.051363</td>\n",
              "      <td>0.011307</td>\n",
              "      <td>-0.132791</td>\n",
              "      <td>-0.054660</td>\n",
              "      <td>-0.051939</td>\n",
              "      <td>-0.061335</td>\n",
              "      <td>0.034247</td>\n",
              "      <td>0.801468</td>\n",
              "      <td>0.904868</td>\n",
              "      <td>1.000000</td>\n",
              "    </tr>\n",
              "  </tbody>\n",
              "</table>\n",
              "</div>"
            ],
            "text/plain": [
              "                 age      Medu      Fedu  ...        G1        G2        G3\n",
              "age         1.000000 -0.163658 -0.163438  ... -0.064081 -0.143474 -0.161579\n",
              "Medu       -0.163658  1.000000  0.623455  ...  0.205341  0.215527  0.217147\n",
              "Fedu       -0.163438  0.623455  1.000000  ...  0.190270  0.164893  0.152457\n",
              "traveltime  0.070641 -0.171639 -0.158194  ... -0.093040 -0.153198 -0.117142\n",
              "studytime  -0.004140  0.064944 -0.009175  ...  0.160612  0.135880  0.097820\n",
              "failures    0.243665 -0.236680 -0.250408  ... -0.354718 -0.355896 -0.360415\n",
              "famrel      0.053940 -0.003914 -0.001370  ...  0.022168 -0.018281  0.051363\n",
              "freetime    0.016434  0.030891 -0.012846  ...  0.012613 -0.013777  0.011307\n",
              "goout       0.126964  0.064094  0.043105  ... -0.149104 -0.162250 -0.132791\n",
              "Dalc        0.131125  0.019834  0.002386  ... -0.094159 -0.064120 -0.054660\n",
              "Walc        0.117276 -0.047123 -0.012631  ... -0.126179 -0.084927 -0.051939\n",
              "health     -0.062187 -0.046878  0.014742  ... -0.073172 -0.097720 -0.061335\n",
              "absences    0.175230  0.100285  0.024473  ... -0.031003 -0.031777  0.034247\n",
              "G1         -0.064081  0.205341  0.190270  ...  1.000000  0.852118  0.801468\n",
              "G2         -0.143474  0.215527  0.164893  ...  0.852118  1.000000  0.904868\n",
              "G3         -0.161579  0.217147  0.152457  ...  0.801468  0.904868  1.000000\n",
              "\n",
              "[16 rows x 16 columns]"
            ]
          },
          "execution_count": 20,
          "metadata": {},
          "output_type": "execute_result"
        }
      ],
      "source": [
        "corr = dados.corr()\n",
        "print(\"As correlações são possíveis, porém não são significativas, visto que todas tendem a zero.\")\n",
        "corr"
      ]
    },
    {
      "cell_type": "markdown",
      "metadata": {
        "id": "ejT9Ux4PG72i"
      },
      "source": [
        "# Parte II - Gráficos\n"
      ]
    },
    {
      "cell_type": "markdown",
      "metadata": {
        "id": "wsfKaVvWstdw"
      },
      "source": [
        "## Categorização de cada variável\n",
        "\n",
        "\n",
        "\n",
        "\n",
        "\n",
        "\n"
      ]
    },
    {
      "cell_type": "markdown",
      "metadata": {
        "id": "eK2pG58XK8O_"
      },
      "source": [
        "* **school**: Qualitativa  nominal\n",
        "* **sex**: Qualitativa nominal\n",
        "* **age**: Quantitativa discreta\n",
        "* **adress**: Qualitativa nominal\n",
        "* **famsize**: Qualitativa ordinal\n",
        "* **Pstatus**: Qualitativa nominal\n",
        "* **Medu**: Qualitativa ordinal, embora seja representada por números inteiros\n",
        "* **Fedu**: Qualitativa ordinal, embora seja representada por números inteiros\n",
        "* **Mjob**: Qualitativa nominal\n",
        "* **Fjob**: Qualitativa nominal\n",
        "* **reason**: Qualitativa nominal\n",
        "* **guardian** :Qualitativa nominal\n",
        "* **traveltime**: Quantitativa discreta\n",
        "* **studytime**: Quantitativa discreta\n",
        "* **failures**: Quantitativa discreta\n",
        "* **schoolup**: Qualitativa nominal\n",
        "* **famsup**: Qualitativa nominal\n",
        "* **paid**: Qualitativa nominal\n",
        "* **activities**: Qualitativa nominal\n",
        "* **nursery**: Qualitativa nominal\n",
        "* **higher**: Qualitativa nominal\n",
        "* **internet**: Qualitativa nominal\n",
        "* **romantic**: Qualitativa nominal\n",
        "* **famrel**: Qualitativa ordinal, embora seja representada por números inteiros\n",
        "* **freetime**: Qualitativa ordinal, embora seja representada por números inteiros\n",
        "* **goout**: Qualitativa ordinal, embora seja representada por números inteiros\n",
        "* **Dalc**: Qualitativa ordinal, embora seja representada por números inteiros\n",
        "* **Walc**: Qualitativa ordinal, embora seja representada por números inteiros\n",
        "* **health**: Qualitativa ordinal, embora seja representada por números inteiros\n",
        "* **absences**: Quantitativa discreta\n",
        "* **G1**: Quantitativa discreta\n",
        "* **G2**: Quantitativa discreta\n",
        "* **G3**: Quantitativa discreta"
      ]
    },
    {
      "cell_type": "markdown",
      "metadata": {
        "id": "M3I0XP5ULQui"
      },
      "source": [
        "## Gráficos"
      ]
    },
    {
      "cell_type": "code",
      "execution_count": null,
      "metadata": {
        "id": "OsY1EzxaMJA0"
      },
      "outputs": [],
      "source": [
        "#rodar célula para funcionar as bibliotecas utilizadas\n",
        "import matplotlib.pyplot as plt\n",
        "import seaborn as sns\n",
        "from numpy import median"
      ]
    },
    {
      "cell_type": "code",
      "execution_count": null,
      "metadata": {
        "colab": {
          "base_uri": "https://localhost:8080/",
          "height": 298
        },
        "id": "snVRNn2jstdx",
        "outputId": "63e41e35-699e-4670-8502-cb0104ae38c5"
      },
      "outputs": [
        {
          "data": {
            "image/png": "[encoded data removed]",
            "text/plain": [
              "<Figure size 432x288 with 1 Axes>"
            ]
          },
          "metadata": {
            "needs_background": "light"
          },
          "output_type": "display_data"
        }
      ],
      "source": [
        "dalcmed = dados.groupby('famrel')['Dalc'].mean()\n",
        "relfam = dados.famrel.sort_values().unique()\n",
        "plt.bar(relfam, dalcmed)\n",
        "plt.xlabel('Qualidade da relação familiar')\n",
        "plt.ylabel('Consumo alcoólico durante a semana')\n",
        "plt.title('Relação do consumo de álcool durante a semana com a qualidade das relações familiares', size = 15)\n",
        "plt.show()"
      ]
    },
    {
      "cell_type": "code",
      "execution_count": null,
      "metadata": {
        "colab": {
          "base_uri": "https://localhost:8080/",
          "height": 298
        },
        "id": "E54rEqZvV6Tc",
        "outputId": "908b67ee-1435-4b92-c2dd-98d307622324"
      },
      "outputs": [
        {
          "data": {
            "image/png": "[encoded data removed]",
            "text/plain": [
              "<Figure size 432x288 with 1 Axes>"
            ]
          },
          "metadata": {
            "needs_background": "light"
          },
          "output_type": "display_data"
        }
      ],
      "source": [
        "walcmed = dados.groupby('famrel')['Walc'].mean()\n",
        "relfam = dados.famrel.sort_values().unique()\n",
        "plt.bar(relfam, walcmed, color = 'red')\n",
        "plt.xlabel('Qualidade da relação familiar')\n",
        "plt.ylabel('Consumo alcoólico aos fins de semana')\n",
        "plt.title('Relação do consumo alcoólico aos fins de semana com a qualidade das relações familiares', size = 15)\n",
        "plt.show()"
      ]
    },
    {
      "cell_type": "code",
      "execution_count": null,
      "metadata": {
        "colab": {
          "base_uri": "https://localhost:8080/",
          "height": 283
        },
        "id": "EQCH1nIVstdy",
        "outputId": "a01dd3a4-28f1-4b32-c8ef-cf741913ceb2"
      },
      "outputs": [
        {
          "data": {
            "text/plain": [
              "Text(0.5, 1.0, 'Apoio familiar nos estudos')"
            ]
          },
          "execution_count": 24,
          "metadata": {},
          "output_type": "execute_result"
        },
        {
          "data": {
            "image/png": "[encoded data removed]",
            "text/plain": [
              "<Figure size 432x288 with 1 Axes>"
            ]
          },
          "metadata": {},
          "output_type": "display_data"
        }
      ],
      "source": [
        "rotulos = dados.famsup.unique()\n",
        "plt.pie(dados.groupby('famsup')['famsup'].count(), labels = rotulos)\n",
        "plt.title('Apoio familiar nos estudos', size = 15)"
      ]
    },
    {
      "cell_type": "code",
      "execution_count": null,
      "metadata": {
        "colab": {
          "base_uri": "https://localhost:8080/",
          "height": 312
        },
        "id": "EclQA1FXstdy",
        "outputId": "9728528e-48ac-42c0-de72-9863b21a5352"
      },
      "outputs": [
        {
          "data": {
            "text/plain": [
              "<matplotlib.axes._subplots.AxesSubplot at 0x7f6766989d10>"
            ]
          },
          "execution_count": 25,
          "metadata": {},
          "output_type": "execute_result"
        },
        {
          "data": {
            "image/png": "[encoded data removed]",
            "text/plain": [
              "<Figure size 432x288 with 1 Axes>"
            ]
          },
          "metadata": {
            "needs_background": "light"
          },
          "output_type": "display_data"
        }
      ],
      "source": [
        "faltasord = dados.sort_values(by = 'absences')\n",
        "faltasord.plot(x = 'absences', y = 'G3', title = 'Relação do número de faltas com a nota final', ylabel = 'Nota final (de 0 a 20)')"
      ]
    },
    {
      "cell_type": "code",
      "execution_count": null,
      "metadata": {
        "colab": {
          "base_uri": "https://localhost:8080/",
          "height": 295
        },
        "id": "QbZyUgw6mpmj",
        "outputId": "23e51375-346e-438e-e3ad-66d8b4a933f2"
      },
      "outputs": [
        {
          "data": {
            "image/png": "[encoded data removed]",
            "text/plain": [
              "<Figure size 432x288 with 1 Axes>"
            ]
          },
          "metadata": {
            "needs_background": "light"
          },
          "output_type": "display_data"
        }
      ],
      "source": [
        "sexm = dados.query('sex == \"M\"')\n",
        "sexf = dados.query('sex == \"F\"')\n",
        "plt.hist(sexm.age, label='Masculino', bins = 10, color = 'blue', alpha = 0.3)\n",
        "plt.hist(sexf.age, label='Feminino', bins = 10, color = 'red', alpha = 0.3)\n",
        "plt.legend(loc = 'upper right')\n",
        "plt.ylabel('Frequência das idades')\n",
        "plt.xlabel('Idade')\n",
        "plt.title('Distribuição da idade dos alunos pelo sexo')\n",
        "plt.show()"
      ]
    },
    {
      "cell_type": "code",
      "execution_count": null,
      "metadata": {
        "colab": {
          "base_uri": "https://localhost:8080/",
          "height": 301
        },
        "id": "HK_LVubhpcLJ",
        "outputId": "f6069b72-d9d5-4b60-d821-bdf90384e755"
      },
      "outputs": [
        {
          "data": {
            "text/plain": [
              "Text(0.5, 1.0, 'Frequência do número de faltas')"
            ]
          },
          "execution_count": 27,
          "metadata": {},
          "output_type": "execute_result"
        },
        {
          "data": {
            "image/png": "[encoded data removed]",
            "text/plain": [
              "<Figure size 432x288 with 1 Axes>"
            ]
          },
          "metadata": {
            "needs_background": "light"
          },
          "output_type": "display_data"
        }
      ],
      "source": [
        "plt.boxplot(dados.absences, showmeans = True)\n",
        "plt.ylabel('Número de Faltas')\n",
        "plt.title('Frequência do número de faltas', size = 15)"
      ]
    },
    {
      "cell_type": "code",
      "execution_count": null,
      "metadata": {
        "colab": {
          "base_uri": "https://localhost:8080/",
          "height": 313
        },
        "id": "cxHA2rdBUmRD",
        "outputId": "12a9961d-c9ec-4488-da05-2146a48ddcd9"
      },
      "outputs": [
        {
          "name": "stdout",
          "output_type": "stream",
          "text": [
            "Relação da nota final com o consumo de álcool durante a semana\n"
          ]
        },
        {
          "data": {
            "text/plain": [
              "<matplotlib.axes._subplots.AxesSubplot at 0x7f6765dba6d0>"
            ]
          },
          "execution_count": 28,
          "metadata": {},
          "output_type": "execute_result"
        },
        {
          "data": {
            "image/png": "[encoded data removed]",
            "text/plain": [
              "<Figure size 432x288 with 1 Axes>"
            ]
          },
          "metadata": {
            "needs_background": "light"
          },
          "output_type": "display_data"
        }
      ],
      "source": [
        "print('Relação da nota final com o consumo de álcool durante a semana')\n",
        "sns.stripplot(x = 'Dalc', y = 'G3', data = dados, hue = 'famsup', size = 10)"
      ]
    },
    {
      "cell_type": "code",
      "execution_count": null,
      "metadata": {
        "colab": {
          "base_uri": "https://localhost:8080/",
          "height": 313
        },
        "id": "bZggNSrElSaj",
        "outputId": "97510494-00fd-496c-d4b5-fd490c552ab3"
      },
      "outputs": [
        {
          "name": "stdout",
          "output_type": "stream",
          "text": [
            "Relação do consumo de álcool durante a semana com a saúde mental dos alunos\n"
          ]
        },
        {
          "data": {
            "text/plain": [
              "<matplotlib.axes._subplots.AxesSubplot at 0x7f6765d57450>"
            ]
          },
          "execution_count": 29,
          "metadata": {},
          "output_type": "execute_result"
        },
        {
          "data": {
            "image/png": "[encoded data removed]",
            "text/plain": [
              "<Figure size 432x288 with 1 Axes>"
            ]
          },
          "metadata": {
            "needs_background": "light"
          },
          "output_type": "display_data"
        }
      ],
      "source": [
        "print('Relação do consumo de álcool durante a semana com a saúde mental dos alunos')\n",
        "dados1 = dados.sort_values(by = 'Dalc')\n",
        "sns.barplot(x = 'Dalc', y = 'health', hue = 'school', data = dados1, estimator = median, capsize = .2)"
      ]
    },
    {
      "cell_type": "code",
      "execution_count": null,
      "metadata": {
        "colab": {
          "base_uri": "https://localhost:8080/",
          "height": 313
        },
        "id": "k7lfghUBpLZO",
        "outputId": "fe3351da-0d76-46e6-e985-83ae521202e0"
      },
      "outputs": [
        {
          "name": "stdout",
          "output_type": "stream",
          "text": [
            "Relação do consumo de álcool aos finais de semana com a saúde mental dos alunos\n"
          ]
        },
        {
          "data": {
            "text/plain": [
              "<matplotlib.axes._subplots.AxesSubplot at 0x7f6765c40610>"
            ]
          },
          "execution_count": 30,
          "metadata": {},
          "output_type": "execute_result"
        },
        {
          "data": {
            "image/png": "[encoded data removed]",
            "text/plain": [
              "<Figure size 432x288 with 1 Axes>"
            ]
          },
          "metadata": {
            "needs_background": "light"
          },
          "output_type": "display_data"
        }
      ],
      "source": [
        "print('Relação do consumo de álcool aos finais de semana com a saúde mental dos alunos')\n",
        "dados2 = dados.sort_values(by = 'Walc')\n",
        "sns.barplot(x = 'Walc', y = 'health', hue = 'school', data = dados2, estimator = median, capsize = .2)"
      ]
    },
    {
      "cell_type": "markdown",
      "metadata": {
        "id": "4VTNV7CWJQHE"
      },
      "source": [
        "* Qual a média geral de cada aluno?"
      ]
    },
    {
      "cell_type": "code",
      "execution_count": null,
      "metadata": {
        "colab": {
          "base_uri": "https://localhost:8080/"
        },
        "id": "uTKPLxU7JQHK",
        "outputId": "042c36bb-ee98-43c8-a203-7f2b43bef425"
      },
      "outputs": [
        {
          "name": "stdout",
          "output_type": "stream",
          "text": [
            "Aluno 0 média geral: 5.67\n",
            "Aluno 1 média geral: 5.33\n",
            "Aluno 2 média geral: 8.33\n",
            "Aluno 3 média geral: 14.67\n",
            "Aluno 4 média geral: 8.67\n",
            "Aluno 5 média geral: 15.00\n",
            "Aluno 6 média geral: 11.67\n",
            "Aluno 7 média geral: 5.67\n",
            "Aluno 8 média geral: 17.67\n",
            "Aluno 9 média geral: 14.67\n",
            "Aluno 10 média geral: 9.00\n",
            "Aluno 11 média geral: 11.33\n",
            "Aluno 12 média geral: 14.00\n",
            "Aluno 13 média geral: 10.33\n",
            "Aluno 14 média geral: 15.33\n",
            "Aluno 15 média geral: 14.00\n",
            "Aluno 16 média geral: 13.67\n",
            "Aluno 17 média geral: 9.33\n",
            "Aluno 18 média geral: 5.33\n",
            "Aluno 19 média geral: 9.33\n",
            "Aluno 20 média geral: 14.00\n",
            "Aluno 21 média geral: 14.00\n",
            "Aluno 22 média geral: 15.33\n",
            "Aluno 23 média geral: 12.67\n",
            "Aluno 24 média geral: 9.00\n",
            "Aluno 25 média geral: 7.67\n",
            "Aluno 26 média geral: 11.67\n",
            "Aluno 27 média geral: 15.33\n",
            "Aluno 28 média geral: 11.00\n",
            "Aluno 29 média geral: 11.00\n",
            "Aluno 30 média geral: 10.67\n",
            "Aluno 31 média geral: 16.67\n",
            "Aluno 32 média geral: 16.33\n",
            "Aluno 33 média geral: 10.00\n",
            "Aluno 34 média geral: 13.67\n",
            "Aluno 35 média geral: 7.00\n",
            "Aluno 36 média geral: 16.33\n",
            "Aluno 37 média geral: 15.33\n",
            "Aluno 38 média geral: 11.67\n",
            "Aluno 39 média geral: 13.33\n",
            "Aluno 40 média geral: 9.33\n",
            "Aluno 41 média geral: 12.00\n",
            "Aluno 42 média geral: 18.33\n",
            "Aluno 43 média geral: 9.00\n",
            "Aluno 44 média geral: 9.67\n",
            "Aluno 45 média geral: 7.33\n",
            "Aluno 46 média geral: 11.33\n",
            "Aluno 47 média geral: 19.33\n",
            "Aluno 48 média geral: 14.67\n",
            "Aluno 49 média geral: 7.00\n",
            "Aluno 50 média geral: 12.67\n",
            "Aluno 51 média geral: 12.33\n",
            "Aluno 52 média geral: 10.67\n",
            "Aluno 53 média geral: 9.67\n",
            "Aluno 54 média geral: 12.00\n",
            "Aluno 55 média geral: 9.00\n",
            "Aluno 56 média geral: 14.67\n",
            "Aluno 57 média geral: 14.67\n",
            "Aluno 58 média geral: 9.33\n",
            "Aluno 59 média geral: 15.67\n",
            "Aluno 60 média geral: 10.67\n",
            "Aluno 61 média geral: 9.67\n",
            "Aluno 62 média geral: 9.00\n",
            "Aluno 63 média geral: 9.33\n",
            "Aluno 64 média geral: 10.00\n",
            "Aluno 65 média geral: 15.33\n",
            "Aluno 66 média geral: 12.67\n",
            "Aluno 67 média geral: 6.67\n",
            "Aluno 68 média geral: 8.33\n",
            "Aluno 69 média geral: 16.00\n",
            "Aluno 70 média geral: 14.33\n",
            "Aluno 71 média geral: 10.00\n",
            "Aluno 72 média geral: 6.33\n",
            "Aluno 73 média geral: 12.67\n",
            "Aluno 74 média geral: 11.33\n",
            "Aluno 75 média geral: 9.33\n",
            "Aluno 76 média geral: 10.67\n",
            "Aluno 77 média geral: 11.00\n",
            "Aluno 78 média geral: 8.67\n",
            "Aluno 79 média geral: 5.00\n",
            "Aluno 80 média geral: 11.33\n",
            "Aluno 81 média geral: 10.67\n",
            "Aluno 82 média geral: 6.33\n",
            "Aluno 83 média geral: 15.00\n",
            "Aluno 84 média geral: 9.67\n",
            "Aluno 85 média geral: 8.00\n",
            "Aluno 86 média geral: 7.00\n",
            "Aluno 87 média geral: 13.67\n",
            "Aluno 88 média geral: 10.33\n",
            "Aluno 89 média geral: 7.00\n",
            "Aluno 90 média geral: 7.33\n",
            "Aluno 91 média geral: 17.00\n",
            "Aluno 92 média geral: 6.33\n",
            "Aluno 93 média geral: 10.33\n",
            "Aluno 94 média geral: 12.67\n",
            "Aluno 95 média geral: 9.00\n",
            "Aluno 96 média geral: 13.67\n",
            "Aluno 97 média geral: 9.00\n",
            "Aluno 98 média geral: 13.00\n",
            "Aluno 99 média geral: 8.00\n",
            "Aluno 100 média geral: 6.33\n",
            "Aluno 101 média geral: 16.67\n",
            "Aluno 102 média geral: 12.33\n",
            "Aluno 103 média geral: 6.33\n",
            "Aluno 104 média geral: 17.33\n",
            "Aluno 105 média geral: 10.67\n",
            "Aluno 106 média geral: 7.67\n",
            "Aluno 107 média geral: 17.33\n",
            "Aluno 108 média geral: 12.00\n",
            "Aluno 109 média geral: 15.00\n",
            "Aluno 110 média geral: 18.67\n",
            "Aluno 111 média geral: 9.00\n",
            "Aluno 112 média geral: 12.00\n",
            "Aluno 113 média geral: 18.67\n",
            "Aluno 114 média geral: 9.00\n",
            "Aluno 115 média geral: 15.33\n",
            "Aluno 116 média geral: 12.67\n",
            "Aluno 117 média geral: 13.33\n",
            "Aluno 118 média geral: 8.00\n",
            "Aluno 119 média geral: 13.33\n",
            "Aluno 120 média geral: 15.33\n",
            "Aluno 121 média geral: 15.00\n",
            "Aluno 122 média geral: 13.00\n",
            "Aluno 123 média geral: 12.67\n",
            "Aluno 124 média geral: 7.67\n",
            "Aluno 125 média geral: 12.67\n",
            "Aluno 126 média geral: 9.33\n",
            "Aluno 127 média geral: 8.00\n",
            "Aluno 128 média geral: 3.67\n",
            "Aluno 129 média geral: 18.00\n",
            "Aluno 130 média geral: 4.00\n",
            "Aluno 131 média geral: 2.67\n",
            "Aluno 132 média geral: 11.67\n",
            "Aluno 133 média geral: 11.33\n",
            "Aluno 134 média geral: 3.00\n",
            "Aluno 135 média geral: 3.67\n",
            "Aluno 136 média geral: 3.33\n",
            "Aluno 137 média geral: 1.33\n",
            "Aluno 138 média geral: 12.67\n",
            "Aluno 139 média geral: 15.67\n",
            "Aluno 140 média geral: 5.33\n",
            "Aluno 141 média geral: 9.00\n",
            "Aluno 142 média geral: 10.33\n",
            "Aluno 143 média geral: 13.67\n",
            "Aluno 144 média geral: 1.67\n",
            "Aluno 145 média geral: 10.00\n",
            "Aluno 146 média geral: 4.33\n",
            "Aluno 147 média geral: 10.67\n",
            "Aluno 148 média geral: 4.33\n",
            "Aluno 149 média geral: 9.00\n",
            "Aluno 150 média geral: 3.67\n",
            "Aluno 151 média geral: 13.00\n",
            "Aluno 152 média geral: 10.00\n",
            "Aluno 153 média geral: 1.67\n",
            "Aluno 154 média geral: 11.33\n",
            "Aluno 155 média geral: 9.00\n",
            "Aluno 156 média geral: 13.67\n",
            "Aluno 157 média geral: 9.00\n",
            "Aluno 158 média geral: 15.67\n",
            "Aluno 159 média geral: 11.33\n",
            "Aluno 160 média geral: 4.33\n",
            "Aluno 161 média geral: 7.00\n",
            "Aluno 162 média geral: 2.33\n",
            "Aluno 163 média geral: 10.00\n",
            "Aluno 164 média geral: 6.67\n",
            "Aluno 165 média geral: 11.67\n",
            "Aluno 166 média geral: 10.00\n",
            "Aluno 167 média geral: 15.00\n",
            "Aluno 168 média geral: 4.33\n",
            "Aluno 169 média geral: 14.00\n",
            "Aluno 170 média geral: 3.67\n",
            "Aluno 171 média geral: 14.67\n",
            "Aluno 172 média geral: 11.33\n",
            "Aluno 173 média geral: 5.00\n",
            "Aluno 174 média geral: 10.00\n",
            "Aluno 175 média geral: 9.33\n",
            "Aluno 176 média geral: 12.33\n",
            "Aluno 177 média geral: 5.67\n",
            "Aluno 178 média geral: 9.00\n",
            "Aluno 179 média geral: 10.33\n",
            "Aluno 180 média geral: 8.33\n",
            "Aluno 181 média geral: 12.33\n",
            "Aluno 182 média geral: 16.67\n",
            "Aluno 183 média geral: 8.67\n",
            "Aluno 184 média geral: 12.33\n",
            "Aluno 185 média geral: 11.67\n",
            "Aluno 186 média geral: 11.33\n",
            "Aluno 187 média geral: 15.00\n",
            "Aluno 188 média geral: 8.00\n",
            "Aluno 189 média geral: 9.00\n",
            "Aluno 190 média geral: 12.00\n",
            "Aluno 191 média geral: 8.33\n",
            "Aluno 192 média geral: 7.67\n",
            "Aluno 193 média geral: 9.00\n",
            "Aluno 194 média geral: 13.67\n",
            "Aluno 195 média geral: 14.67\n",
            "Aluno 196 média geral: 16.00\n",
            "Aluno 197 média geral: 9.33\n",
            "Aluno 198 média geral: 18.00\n",
            "Aluno 199 média geral: 9.33\n",
            "Aluno 200 média geral: 16.00\n",
            "Aluno 201 média geral: 9.33\n",
            "Aluno 202 média geral: 9.33\n",
            "Aluno 203 média geral: 6.33\n",
            "Aluno 204 média geral: 10.33\n",
            "Aluno 205 média geral: 9.33\n",
            "Aluno 206 média geral: 7.00\n",
            "Aluno 207 média geral: 12.00\n",
            "Aluno 208 média geral: 9.33\n",
            "Aluno 209 média geral: 7.00\n",
            "Aluno 210 média geral: 8.00\n",
            "Aluno 211 média geral: 12.33\n",
            "Aluno 212 média geral: 13.00\n",
            "Aluno 213 média geral: 7.00\n",
            "Aluno 214 média geral: 9.33\n",
            "Aluno 215 média geral: 14.67\n",
            "Aluno 216 média geral: 5.33\n",
            "Aluno 217 média geral: 6.67\n",
            "Aluno 218 média geral: 7.33\n",
            "Aluno 219 média geral: 9.67\n",
            "Aluno 220 média geral: 6.00\n",
            "Aluno 221 média geral: 3.67\n",
            "Aluno 222 média geral: 16.33\n",
            "Aluno 223 média geral: 12.67\n",
            "Aluno 224 média geral: 13.33\n",
            "Aluno 225 média geral: 8.00\n",
            "Aluno 226 média geral: 15.33\n",
            "Aluno 227 média geral: 11.67\n",
            "Aluno 228 média geral: 9.00\n",
            "Aluno 229 média geral: 11.33\n",
            "Aluno 230 média geral: 13.33\n",
            "Aluno 231 média geral: 11.00\n",
            "Aluno 232 média geral: 9.67\n",
            "Aluno 233 média geral: 13.33\n",
            "Aluno 234 média geral: 7.33\n",
            "Aluno 235 média geral: 10.00\n",
            "Aluno 236 média geral: 13.33\n",
            "Aluno 237 média geral: 12.33\n",
            "Aluno 238 média geral: 11.67\n",
            "Aluno 239 média geral: 4.67\n",
            "Aluno 240 média geral: 12.00\n",
            "Aluno 241 média geral: 11.00\n",
            "Aluno 242 média geral: 2.00\n",
            "Aluno 243 média geral: 12.33\n",
            "Aluno 244 média geral: 2.33\n",
            "Aluno 245 média geral: 18.00\n",
            "Aluno 246 média geral: 12.33\n",
            "Aluno 247 média geral: 7.33\n",
            "Aluno 248 média geral: 4.33\n",
            "Aluno 249 média geral: 14.33\n",
            "Aluno 250 média geral: 7.33\n",
            "Aluno 251 média geral: 9.00\n",
            "Aluno 252 média geral: 7.67\n",
            "Aluno 253 média geral: 8.33\n",
            "Aluno 254 média geral: 10.67\n",
            "Aluno 255 média geral: 8.00\n",
            "Aluno 256 média geral: 13.00\n",
            "Aluno 257 média geral: 11.00\n",
            "Aluno 258 média geral: 14.33\n",
            "Aluno 259 média geral: 6.33\n",
            "Aluno 260 média geral: 17.67\n",
            "Aluno 261 média geral: 8.00\n",
            "Aluno 262 média geral: 12.33\n",
            "Aluno 263 média geral: 9.33\n",
            "Aluno 264 média geral: 6.33\n",
            "Aluno 265 média geral: 17.00\n",
            "Aluno 266 média geral: 9.33\n",
            "Aluno 267 média geral: 11.00\n",
            "Aluno 268 média geral: 9.67\n",
            "Aluno 269 média geral: 2.00\n",
            "Aluno 270 média geral: 9.00\n",
            "Aluno 271 média geral: 14.33\n",
            "Aluno 272 média geral: 11.00\n",
            "Aluno 273 média geral: 14.33\n",
            "Aluno 274 média geral: 10.00\n",
            "Aluno 275 média geral: 12.00\n",
            "Aluno 276 média geral: 9.33\n",
            "Aluno 277 média geral: 9.00\n",
            "Aluno 278 média geral: 8.33\n",
            "Aluno 279 média geral: 10.33\n",
            "Aluno 280 média geral: 8.00\n",
            "Aluno 281 média geral: 10.00\n",
            "Aluno 282 média geral: 12.00\n",
            "Aluno 283 média geral: 9.00\n",
            "Aluno 284 média geral: 10.00\n",
            "Aluno 285 média geral: 11.00\n",
            "Aluno 286 média geral: 18.33\n",
            "Aluno 287 média geral: 12.33\n",
            "Aluno 288 média geral: 14.33\n",
            "Aluno 289 média geral: 14.33\n",
            "Aluno 290 média geral: 11.33\n",
            "Aluno 291 média geral: 15.00\n",
            "Aluno 292 média geral: 12.33\n",
            "Aluno 293 média geral: 18.00\n",
            "Aluno 294 média geral: 13.67\n",
            "Aluno 295 média geral: 12.33\n",
            "Aluno 296 média geral: 6.33\n",
            "Aluno 297 média geral: 8.67\n",
            "Aluno 298 média geral: 13.67\n",
            "Aluno 299 média geral: 15.67\n",
            "Aluno 300 média geral: 11.00\n",
            "Aluno 301 média geral: 10.67\n",
            "Aluno 302 média geral: 13.67\n",
            "Aluno 303 média geral: 17.33\n",
            "Aluno 304 média geral: 14.00\n",
            "Aluno 305 média geral: 12.67\n",
            "Aluno 306 média geral: 17.67\n",
            "Aluno 307 média geral: 8.33\n",
            "Aluno 308 média geral: 13.00\n",
            "Aluno 309 média geral: 10.67\n",
            "Aluno 310 média geral: 6.00\n",
            "Aluno 311 média geral: 13.00\n",
            "Aluno 312 média geral: 11.67\n",
            "Aluno 313 média geral: 11.33\n",
            "Aluno 314 média geral: 13.67\n",
            "Aluno 315 média geral: 11.67\n",
            "Aluno 316 média geral: 5.33\n",
            "Aluno 317 média geral: 9.33\n",
            "Aluno 318 média geral: 10.67\n",
            "Aluno 319 média geral: 11.00\n",
            "Aluno 320 média geral: 13.00\n",
            "Aluno 321 média geral: 9.67\n",
            "Aluno 322 média geral: 11.00\n",
            "Aluno 323 média geral: 13.67\n",
            "Aluno 324 média geral: 15.33\n",
            "Aluno 325 média geral: 10.67\n",
            "Aluno 326 média geral: 15.00\n",
            "Aluno 327 média geral: 10.33\n",
            "Aluno 328 média geral: 9.33\n",
            "Aluno 329 média geral: 14.00\n",
            "Aluno 330 média geral: 8.33\n",
            "Aluno 331 média geral: 13.33\n",
            "Aluno 332 média geral: 2.33\n",
            "Aluno 333 média geral: 5.33\n",
            "Aluno 334 média geral: 6.33\n",
            "Aluno 335 média geral: 15.33\n",
            "Aluno 336 média geral: 13.33\n",
            "Aluno 337 média geral: 5.00\n",
            "Aluno 338 média geral: 16.00\n",
            "Aluno 339 média geral: 9.67\n",
            "Aluno 340 média geral: 11.33\n",
            "Aluno 341 média geral: 6.67\n",
            "Aluno 342 média geral: 15.33\n",
            "Aluno 343 média geral: 5.67\n",
            "Aluno 344 média geral: 10.33\n",
            "Aluno 345 média geral: 13.33\n",
            "Aluno 346 média geral: 15.67\n",
            "Aluno 347 média geral: 9.67\n",
            "Aluno 348 média geral: 14.33\n",
            "Aluno 349 média geral: 12.33\n",
            "Aluno 350 média geral: 7.67\n",
            "Aluno 351 média geral: 13.00\n",
            "Aluno 352 média geral: 7.67\n",
            "Aluno 353 média geral: 8.00\n",
            "Aluno 354 média geral: 11.67\n",
            "Aluno 355 média geral: 9.33\n",
            "Aluno 356 média geral: 12.67\n",
            "Aluno 357 média geral: 11.67\n",
            "Aluno 358 média geral: 10.00\n",
            "Aluno 359 média geral: 16.67\n",
            "Aluno 360 média geral: 13.00\n",
            "Aluno 361 média geral: 12.33\n",
            "Aluno 362 média geral: 10.67\n",
            "Aluno 363 média geral: 15.33\n",
            "Aluno 364 média geral: 11.67\n",
            "Aluno 365 média geral: 10.00\n",
            "Aluno 366 média geral: 13.00\n",
            "Aluno 367 média geral: 4.33\n",
            "Aluno 368 média geral: 10.33\n",
            "Aluno 369 média geral: 12.33\n",
            "Aluno 370 média geral: 7.67\n",
            "Aluno 371 média geral: 12.67\n",
            "Aluno 372 média geral: 11.67\n",
            "Aluno 373 média geral: 5.33\n",
            "Aluno 374 média geral: 18.67\n",
            "Aluno 375 média geral: 8.67\n",
            "Aluno 376 média geral: 14.67\n",
            "Aluno 377 média geral: 9.00\n",
            "Aluno 378 média geral: 15.00\n",
            "Aluno 379 média geral: 10.00\n",
            "Aluno 380 média geral: 14.33\n",
            "Aluno 381 média geral: 6.67\n",
            "Aluno 382 média geral: 10.67\n",
            "Aluno 383 média geral: 3.67\n",
            "Aluno 384 média geral: 5.33\n",
            "Aluno 385 média geral: 9.67\n",
            "Aluno 386 média geral: 5.67\n",
            "Aluno 387 média geral: 4.00\n",
            "Aluno 388 média geral: 8.00\n",
            "Aluno 389 média geral: 3.67\n",
            "Aluno 390 média geral: 9.00\n",
            "Aluno 391 média geral: 15.33\n",
            "Aluno 392 média geral: 8.33\n",
            "Aluno 393 média geral: 11.00\n",
            "Aluno 394 média geral: 8.67\n"
          ]
        }
      ],
      "source": [
        "for indice,valor in dados.iterrows():\n",
        "  media = (valor.G1 + valor.G2 + valor.G3)/3\n",
        "  print(f\"Aluno {indice}\",\"média geral: %.2f\"%media)"
      ]
    },
    {
      "cell_type": "markdown",
      "metadata": {
        "id": "Pgp8Okc0HMK6"
      },
      "source": [
        "# Parte III - Iteração sobre a tabela\n"
      ]
    },
    {
      "cell_type": "markdown",
      "metadata": {
        "id": "JEydlFWzt_v2"
      },
      "source": [
        "* Se o nivel de estudo do pai e da mãe forem bons, o estudante tende a ter apoio familiar?"
      ]
    },
    {
      "cell_type": "code",
      "execution_count": null,
      "metadata": {
        "colab": {
          "base_uri": "https://localhost:8080/"
        },
        "id": "d3aqegZsueA2",
        "outputId": "f59ee55c-4564-484d-cd4c-5c412d0401b9"
      },
      "outputs": [
        {
          "name": "stdout",
          "output_type": "stream",
          "text": [
            "A porcentagem de apoio geral é de 61.27 % enquanto o apoio para pais de alto nivel de escolaridade é de 77.14 %.\n",
            "Logo, podemos concluir que sim, com a maior escolaridade dos pais há uma maior tendência a haver apoio familiar.\n"
          ]
        }
      ],
      "source": [
        "total_espc = 0\n",
        "total_geral = 0\n",
        "\n",
        "tot_sim_geral = 0\n",
        "tot_sim_espc = 0\n",
        "\n",
        "for indice,valor in dados.iterrows():\n",
        "  if valor.famsup == \"yes\" or valor.famsup == \"no\":\n",
        "    total_geral = total_geral + 1\n",
        "\n",
        "  if valor.famsup == \"yes\":\n",
        "    tot_sim_geral = tot_sim_geral + 1\n",
        "\n",
        "  if (valor.Fedu >= 4) and (valor.Medu >= 4):\n",
        "    if valor.famsup == \"yes\" or valor.famsup == \"no\":\n",
        "      total_espc = total_espc + 1\n",
        "    if valor.famsup == \"yes\":\n",
        "      tot_sim_espc = tot_sim_espc + 1\n",
        "\n",
        "porc_geral = (tot_sim_geral/total_geral)*100\n",
        "porc = (tot_sim_espc/total_espc)*100\n",
        "\n",
        "print(\"A porcentagem de apoio geral é de %.2f\"%porc_geral,\"%\", \"enquanto o apoio para pais de alto nivel de escolaridade é de %.2f\"%porc,\"%.\")\n",
        "print(\"Logo, podemos concluir que sim, com a maior escolaridade dos pais há uma maior tendência a haver apoio familiar.\")  "
      ]
    },
    {
      "cell_type": "markdown",
      "metadata": {
        "id": "0v-Qw5ZjiV74"
      },
      "source": [
        "* Ter relação familiar ruim faz os estudantes beberem mais no final de semana?\n",
        "\n"
      ]
    },
    {
      "cell_type": "code",
      "execution_count": null,
      "metadata": {
        "colab": {
          "base_uri": "https://localhost:8080/"
        },
        "id": "5EvseLzb-9HV",
        "outputId": "cd7b72f5-bdb6-4284-ffe8-c850e76c352d"
      },
      "outputs": [
        {
          "name": "stdout",
          "output_type": "stream",
          "text": [
            "Para familias sem boa relação a porcentagem de alunos que bebem muito nos finais de semana é de 10.13 % enquanto para familias com boas relações a porcentagem é de 68.35 %\n"
          ]
        }
      ],
      "source": [
        "tot_bebe_geral = 0\n",
        "\n",
        "tot_bebe1 = 0\n",
        "tot_bebe2 = 0\n",
        "\n",
        "for indice,valor in dados.iterrows():\n",
        "  if (valor.Walc == 4) or (valor.Walc == 5):\n",
        "      tot_bebe_geral = tot_bebe_geral + 1\n",
        "\n",
        "  if (valor.famrel == 1) or (valor.famrel == 2):\n",
        "    if (valor.Walc == 4) or (valor.Walc == 5):\n",
        "      tot_bebe1 = tot_bebe1 + 1\n",
        "\n",
        "  if (valor.famrel == 4) or (valor.famrel == 5):\n",
        "    if (valor.Walc == 4) or (valor.Walc == 5):\n",
        "      tot_bebe2 = tot_bebe2 + 1\n",
        "\n",
        "porc1 = (tot_bebe1/tot_bebe_geral)*100\n",
        "porc2 = (tot_bebe2/tot_bebe_geral)*100\n",
        "\n",
        "print(\"Para familias sem boa relação a porcentagem de alunos que bebem muito nos finais de semana é de %.2f\"%porc1,\"%\",\"enquanto para familias com boas relações a porcentagem é de %.2f\"%porc2,\"%\") "
      ]
    },
    {
      "cell_type": "markdown",
      "metadata": {
        "id": "5upFvlpWAenX"
      },
      "source": [
        "* Os estudantes que possuem um tempo maior pra chegar à escola faltam mais?\n"
      ]
    },
    {
      "cell_type": "code",
      "execution_count": null,
      "metadata": {
        "colab": {
          "base_uri": "https://localhost:8080/"
        },
        "id": "mHQr7knBAlXu",
        "outputId": "d62d39a6-b9ba-4051-d0e4-b89bf36cb660"
      },
      "outputs": [
        {
          "name": "stdout",
          "output_type": "stream",
          "text": [
            "Apesar de parecer estranho, a porcentagem de falta dos estudantes que demoram mais pra chegar á escola é 6.65 % enquanto os que chegam mais rápido possuem 93.35 % de faltas.\n",
            "Logo, concluimos que o tempo de viagem até a escola não é um parâmetro para determinar a razão das faltas.\n"
          ]
        }
      ],
      "source": [
        "qnt_tmenor = 0\n",
        "faltas_tmenor = 0\n",
        "\n",
        "qnt_tmaior = 0\n",
        "faltas_tmaior = 0\n",
        "\n",
        "for indice,valor in dados.iterrows():\n",
        "  if valor.traveltime < 3:\n",
        "    qnt_tmenor = qnt_tmenor + 1\n",
        "    faltas_tmenor = faltas_tmenor + valor.absences\n",
        "\n",
        "  if valor.traveltime >= 3:\n",
        "    qnt_tmaior = qnt_tmaior + 1\n",
        "    faltas_tmaior = faltas_tmaior + valor.absences\n",
        "\n",
        "total_faltas = faltas_tmenor + faltas_tmaior\n",
        "total_pessoas = qnt_tmenor + qnt_tmaior\n",
        "\n",
        "porc_tmenor_faltas = (faltas_tmenor/total_faltas)*100\n",
        "porc_tmaior_faltas = (faltas_tmaior/total_faltas)*100\n",
        "\n",
        "print(\"Apesar de parecer estranho, a porcentagem de falta dos estudantes que demoram mais pra chegar á escola é %.2f\"%porc_tmaior_faltas ,\"%\",\"enquanto os que chegam mais rápido possuem %.2f\"%porc_tmenor_faltas, \"% de faltas.\")\n",
        "print(\"Logo, concluimos que o tempo de viagem até a escola não é um parâmetro para determinar a razão das faltas.\")\n"
      ]
    },
    {
      "cell_type": "markdown",
      "metadata": {
        "id": "67pItX2lPB2N"
      },
      "source": [
        "* Os estudantes que bebem na semana faltam mais?\n"
      ]
    },
    {
      "cell_type": "code",
      "execution_count": null,
      "metadata": {
        "colab": {
          "base_uri": "https://localhost:8080/"
        },
        "id": "ty7LMQeFPMhm",
        "outputId": "712d6f4e-9963-43ea-b3b2-cd0595ab0084"
      },
      "outputs": [
        {
          "name": "stdout",
          "output_type": "stream",
          "text": [
            "A porcentagem de estudantes que bebem bastante na semana e faltam é 14.24 %\n",
            "A porcentagem de estudantes que bebem pouco na semana e faltam é 85.76 %\n",
            "Portanto, concluimos que o tanto que o estudante bebe durante a semana não é um parâmetro para determinar a quantidade de faltas dele.\n"
          ]
        }
      ],
      "source": [
        "tot_p = dados[\"absences\"].count()\n",
        "soma1 = 0\n",
        "soma2 = 0\n",
        "\n",
        "for indice,valor in dados.iterrows():\n",
        "  if valor.Dalc >= 3:    \n",
        "    soma1 = soma1 + valor.absences\n",
        "\n",
        "  if valor.Dalc <= 3:\n",
        "      soma2 = soma2 + valor.absences\n",
        "\n",
        "soma_t = soma1 + soma2\n",
        "porc1 = (soma1/soma_t)*100\n",
        "porc2 = (soma2/soma_t)*100\n",
        "\n",
        "print(\"A porcentagem de estudantes que bebem bastante na semana e faltam é %.2f\"%porc1,\"%\")\n",
        "print(\"A porcentagem de estudantes que bebem pouco na semana e faltam é %.2f\"%porc2,\"%\")\n",
        "print(\"Portanto, concluimos que o tanto que o estudante bebe durante a semana não é um parâmetro para determinar a quantidade de faltas dele.\")"
      ]
    }
  ],
  "metadata": {
    "colab": {
      "collapsed_sections": [
        "_5EPfI9Nrhuu",
        "bqgCuQoNtPMA",
        "rkPSeb3bGYVh",
        "ejT9Ux4PG72i",
        "Pgp8Okc0HMK6"
      ],
      "provenance": [],
      "toc_visible": true
    },
    "kernelspec": {
      "display_name": "Python 3",
      "language": "python",
      "name": "python3"
    },
    "language_info": {
      "name": "python",
      "version": "3.10.9 (tags/v3.10.9:1dd9be6, Dec  6 2022, 20:01:21) [MSC v.1934 64 bit (AMD64)]"
    },
    "vscode": {
      "interpreter": {
        "hash": "29b11319cf0179cc51991dc5f7beb4e7e3226e80310d496f5a6837462b7b1381"
      }
    }
  },
  "nbformat": 4,
  "nbformat_minor": 0
}
